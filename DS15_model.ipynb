{
 "cells": [
  {
   "cell_type": "markdown",
   "metadata": {
    "id": "jJu2pF1AKeC2"
   },
   "source": [
    "# Final project"
   ]
  },
  {
   "cell_type": "markdown",
   "metadata": {
    "id": "cfF5tl-cKgoI"
   },
   "source": [
    "Импорты\n"
   ]
  },
  {
   "cell_type": "code",
   "execution_count": 2,
   "metadata": {
    "id": "3u0bkA6BLRo-"
   },
   "outputs": [],
   "source": [
    "import pandas as pd\n",
    "import numpy as np\n",
    "import math\n",
    "from sklearn.model_selection import train_test_split\n",
    "from sklearn.metrics import accuracy_score, mean_squared_error, precision_score, recall_score, roc_auc_score\n",
    "from sklearn.linear_model import LogisticRegression\n",
    "from sklearn.model_selection import cross_val_score\n",
    "from googletrans import Translator\n",
    "from sklearn.model_selection import GridSearchCV\n",
    "from sklearn.svm import SVC\n",
    "from sklearn.tree import DecisionTreeClassifier, DecisionTreeRegressor\n",
    "from sklearn.ensemble import RandomForestClassifier, RandomForestRegressor, VotingRegressor, BaggingRegressor, StackingRegressor, VotingClassifier, BaggingClassifier, StackingClassifier\n",
    "from sklearn.base import BaseEstimator\n",
    "from sklearn.base import TransformerMixin\n",
    "from sklearn.metrics import roc_curve\n",
    "from sklearn.metrics import RocCurveDisplay\n",
    "from sklearn.metrics import average_precision_score\n",
    "from sklearn.metrics import auc\n",
    "from sklearn.preprocessing import StandardScaler\n",
    "from joblib import dump\n",
    "from urllib import request\n",
    "import requests\n",
    "import warnings\n",
    "from urllib.error import HTTPError, URLError\n",
    "from tqdm import trange\n",
    "import tabula"
   ]
  },
  {
   "cell_type": "markdown",
   "metadata": {},
   "source": [
    "3.1. Прогноз\n",
    "Подготовка данных\n",
    "\n",
    "Используйте датасет из Epicurious, подготовленный HugoDarwood\n",
    "Отфильтруйте поля: удалите как можно больше столбцов, которые не относятся к названиями ингридиентов. \n",
    "Вы будете прогнозировать оценку или категорию оценки, используя только ингридиенты и ничего больше. \n",
    "Если модель обучится на других данных, которые не будут передаваться на вход, то точность прогнозов будет заведомо ниже."
   ]
  },
  {
   "cell_type": "code",
   "execution_count": null,
   "metadata": {},
   "outputs": [],
   "source": []
  },
  {
   "cell_type": "code",
   "execution_count": 5,
   "metadata": {
    "id": "fZpsXvfVLWHr",
    "scrolled": true
   },
   "outputs": [],
   "source": [
    "df = pd.read_csv('C:\\\\Google Drive\\\\School21\\\\Day15\\\\epi_r.csv')\n",
    "colum = pd.DataFrame()\n",
    "colum['name'] = df.columns"
   ]
  },
  {
   "cell_type": "code",
   "execution_count": 128,
   "metadata": {},
   "outputs": [],
   "source": [
    "#translator = Translator()\n",
    "#for i in range(0, 200):\n",
    "#    result = translator.translate(colum.name[i], dest = 'ru')\n",
    "#   colum['translate'][i] = result.text\n",
    "#for i in range(200, 400):\n",
    "#    result = translator.translate(colum.name[i], dest = 'ru')\n",
    "#    colum['translate'][i] = result.text\n",
    "#for i in range(400, 600):\n",
    "#    result = translator.translate(colum.name[i], dest = 'ru')\n",
    "#    colum['translate'][i] = result.text\n",
    "#for i in range(600, 601):\n",
    "#    result = translator.translate(colum.name[i], dest = 'ru')\n",
    "#    colum['translate'][i] = result.text\n",
    "#for i in range(601, 681):\n",
    "#    result = translator.translate(colum.name[i], dest = 'ru')\n",
    "#    colum['translate'][i] = result.text"
   ]
  },
  {
   "cell_type": "code",
   "execution_count": 4,
   "metadata": {
    "id": "iiw_dvILXcS3"
   },
   "outputs": [],
   "source": [
    "#colum.to_excel('C:\\\\Google Drive\\\\School21\\\\Day15\\\\name_columns_real.xlsx')"
   ]
  },
  {
   "cell_type": "code",
   "execution_count": 11,
   "metadata": {
    "id": "ldLf7a85Z-4s",
    "scrolled": true
   },
   "outputs": [
    {
     "data": {
      "text/html": [
       "<div>\n",
       "<style scoped>\n",
       "    .dataframe tbody tr th:only-of-type {\n",
       "        vertical-align: middle;\n",
       "    }\n",
       "\n",
       "    .dataframe tbody tr th {\n",
       "        vertical-align: top;\n",
       "    }\n",
       "\n",
       "    .dataframe thead th {\n",
       "        text-align: right;\n",
       "    }\n",
       "</style>\n",
       "<table border=\"1\" class=\"dataframe\">\n",
       "  <thead>\n",
       "    <tr style=\"text-align: right;\">\n",
       "      <th></th>\n",
       "      <th>Unnamed: 0</th>\n",
       "      <th>name</th>\n",
       "      <th>translate</th>\n",
       "      <th>include</th>\n",
       "      <th>name_real</th>\n",
       "    </tr>\n",
       "  </thead>\n",
       "  <tbody>\n",
       "    <tr>\n",
       "      <th>0</th>\n",
       "      <td>0</td>\n",
       "      <td>title</td>\n",
       "      <td>заглавие</td>\n",
       "      <td>д</td>\n",
       "      <td>title</td>\n",
       "    </tr>\n",
       "    <tr>\n",
       "      <th>1</th>\n",
       "      <td>1</td>\n",
       "      <td>rating</td>\n",
       "      <td>рейтинг</td>\n",
       "      <td>д</td>\n",
       "      <td>rating</td>\n",
       "    </tr>\n",
       "    <tr>\n",
       "      <th>2</th>\n",
       "      <td>2</td>\n",
       "      <td>calories</td>\n",
       "      <td>калории</td>\n",
       "      <td>NaN</td>\n",
       "      <td>calories</td>\n",
       "    </tr>\n",
       "    <tr>\n",
       "      <th>3</th>\n",
       "      <td>3</td>\n",
       "      <td>protein</td>\n",
       "      <td>белок</td>\n",
       "      <td>NaN</td>\n",
       "      <td>protein</td>\n",
       "    </tr>\n",
       "    <tr>\n",
       "      <th>4</th>\n",
       "      <td>4</td>\n",
       "      <td>fat</td>\n",
       "      <td>толстый</td>\n",
       "      <td>NaN</td>\n",
       "      <td>fat</td>\n",
       "    </tr>\n",
       "    <tr>\n",
       "      <th>...</th>\n",
       "      <td>...</td>\n",
       "      <td>...</td>\n",
       "      <td>...</td>\n",
       "      <td>...</td>\n",
       "      <td>...</td>\n",
       "    </tr>\n",
       "    <tr>\n",
       "      <th>675</th>\n",
       "      <td>675</td>\n",
       "      <td>cookbooks</td>\n",
       "      <td>кулинарные книги</td>\n",
       "      <td>NaN</td>\n",
       "      <td>cookbooks</td>\n",
       "    </tr>\n",
       "    <tr>\n",
       "      <th>676</th>\n",
       "      <td>676</td>\n",
       "      <td>leftovers</td>\n",
       "      <td>остатки</td>\n",
       "      <td>NaN</td>\n",
       "      <td>leftovers</td>\n",
       "    </tr>\n",
       "    <tr>\n",
       "      <th>677</th>\n",
       "      <td>677</td>\n",
       "      <td>snack</td>\n",
       "      <td>перекус</td>\n",
       "      <td>NaN</td>\n",
       "      <td>snack</td>\n",
       "    </tr>\n",
       "    <tr>\n",
       "      <th>678</th>\n",
       "      <td>678</td>\n",
       "      <td>snack week</td>\n",
       "      <td>Закуска неделя</td>\n",
       "      <td>NaN</td>\n",
       "      <td>snack week</td>\n",
       "    </tr>\n",
       "    <tr>\n",
       "      <th>679</th>\n",
       "      <td>679</td>\n",
       "      <td>turkey</td>\n",
       "      <td>индейка</td>\n",
       "      <td>д</td>\n",
       "      <td>turkey</td>\n",
       "    </tr>\n",
       "  </tbody>\n",
       "</table>\n",
       "<p>680 rows × 5 columns</p>\n",
       "</div>"
      ],
      "text/plain": [
       "     Unnamed: 0        name         translate include   name_real\n",
       "0             0       title          заглавие       д       title\n",
       "1             1      rating           рейтинг       д      rating\n",
       "2             2    calories           калории     NaN    calories\n",
       "3             3     protein             белок     NaN     protein\n",
       "4             4         fat           толстый     NaN         fat\n",
       "..          ...         ...               ...     ...         ...\n",
       "675         675   cookbooks  кулинарные книги     NaN   cookbooks\n",
       "676         676   leftovers           остатки     NaN   leftovers\n",
       "677         677       snack           перекус     NaN       snack\n",
       "678         678  snack week    Закуска неделя     NaN  snack week\n",
       "679         679      turkey           индейка       д      turkey\n",
       "\n",
       "[680 rows x 5 columns]"
      ]
     },
     "execution_count": 11,
     "metadata": {},
     "output_type": "execute_result"
    }
   ],
   "source": [
    "df_ingridients = pd.read_excel('C:\\\\Google Drive\\\\School21\\\\Day15\\\\name_columns.xlsx')\n",
    "df_ingridients"
   ]
  },
  {
   "cell_type": "code",
   "execution_count": 12,
   "metadata": {},
   "outputs": [],
   "source": [
    "df_ingr_filtr = df_ingridients['include'].isin(['д'])"
   ]
  },
  {
   "cell_type": "code",
   "execution_count": 13,
   "metadata": {
    "scrolled": true
   },
   "outputs": [
    {
     "data": {
      "text/html": [
       "<div>\n",
       "<style scoped>\n",
       "    .dataframe tbody tr th:only-of-type {\n",
       "        vertical-align: middle;\n",
       "    }\n",
       "\n",
       "    .dataframe tbody tr th {\n",
       "        vertical-align: top;\n",
       "    }\n",
       "\n",
       "    .dataframe thead th {\n",
       "        text-align: right;\n",
       "    }\n",
       "</style>\n",
       "<table border=\"1\" class=\"dataframe\">\n",
       "  <thead>\n",
       "    <tr style=\"text-align: right;\">\n",
       "      <th></th>\n",
       "      <th>Unnamed: 0</th>\n",
       "      <th>name</th>\n",
       "      <th>translate</th>\n",
       "      <th>include</th>\n",
       "      <th>name_real</th>\n",
       "    </tr>\n",
       "  </thead>\n",
       "  <tbody>\n",
       "    <tr>\n",
       "      <th>0</th>\n",
       "      <td>0</td>\n",
       "      <td>title</td>\n",
       "      <td>заглавие</td>\n",
       "      <td>д</td>\n",
       "      <td>title</td>\n",
       "    </tr>\n",
       "    <tr>\n",
       "      <th>1</th>\n",
       "      <td>1</td>\n",
       "      <td>rating</td>\n",
       "      <td>рейтинг</td>\n",
       "      <td>д</td>\n",
       "      <td>rating</td>\n",
       "    </tr>\n",
       "    <tr>\n",
       "      <th>15</th>\n",
       "      <td>15</td>\n",
       "      <td>almond</td>\n",
       "      <td>миндаль</td>\n",
       "      <td>д</td>\n",
       "      <td>almond</td>\n",
       "    </tr>\n",
       "    <tr>\n",
       "      <th>16</th>\n",
       "      <td>16</td>\n",
       "      <td>amaretto</td>\n",
       "      <td>Амаретто</td>\n",
       "      <td>д</td>\n",
       "      <td>amaretto</td>\n",
       "    </tr>\n",
       "    <tr>\n",
       "      <th>17</th>\n",
       "      <td>17</td>\n",
       "      <td>anchovy</td>\n",
       "      <td>Анчоус</td>\n",
       "      <td>д</td>\n",
       "      <td>anchovy</td>\n",
       "    </tr>\n",
       "    <tr>\n",
       "      <th>...</th>\n",
       "      <td>...</td>\n",
       "      <td>...</td>\n",
       "      <td>...</td>\n",
       "      <td>...</td>\n",
       "      <td>...</td>\n",
       "    </tr>\n",
       "    <tr>\n",
       "      <th>662</th>\n",
       "      <td>662</td>\n",
       "      <td>white wine</td>\n",
       "      <td>белое вино</td>\n",
       "      <td>д</td>\n",
       "      <td>white wine</td>\n",
       "    </tr>\n",
       "    <tr>\n",
       "      <th>664</th>\n",
       "      <td>664</td>\n",
       "      <td>wild rice</td>\n",
       "      <td>дикий рис</td>\n",
       "      <td>д</td>\n",
       "      <td>wild rice</td>\n",
       "    </tr>\n",
       "    <tr>\n",
       "      <th>671</th>\n",
       "      <td>671</td>\n",
       "      <td>yogurt</td>\n",
       "      <td>йогурт</td>\n",
       "      <td>д</td>\n",
       "      <td>yogurt</td>\n",
       "    </tr>\n",
       "    <tr>\n",
       "      <th>674</th>\n",
       "      <td>674</td>\n",
       "      <td>zucchini</td>\n",
       "      <td>цуккини</td>\n",
       "      <td>д</td>\n",
       "      <td>zucchini</td>\n",
       "    </tr>\n",
       "    <tr>\n",
       "      <th>679</th>\n",
       "      <td>679</td>\n",
       "      <td>turkey</td>\n",
       "      <td>индейка</td>\n",
       "      <td>д</td>\n",
       "      <td>turkey</td>\n",
       "    </tr>\n",
       "  </tbody>\n",
       "</table>\n",
       "<p>242 rows × 5 columns</p>\n",
       "</div>"
      ],
      "text/plain": [
       "     Unnamed: 0        name   translate include   name_real\n",
       "0             0       title    заглавие       д       title\n",
       "1             1      rating     рейтинг       д      rating\n",
       "15           15      almond     миндаль       д      almond\n",
       "16           16    amaretto    Амаретто       д    amaretto\n",
       "17           17     anchovy      Анчоус       д     anchovy\n",
       "..          ...         ...         ...     ...         ...\n",
       "662         662  white wine  белое вино       д  white wine\n",
       "664         664   wild rice   дикий рис       д   wild rice\n",
       "671         671      yogurt      йогурт       д      yogurt\n",
       "674         674    zucchini     цуккини       д    zucchini\n",
       "679         679      turkey     индейка       д      turkey\n",
       "\n",
       "[242 rows x 5 columns]"
      ]
     },
     "execution_count": 13,
     "metadata": {},
     "output_type": "execute_result"
    }
   ],
   "source": [
    "df_filtr = df_ingridients.loc[df_ingridients['include'] == 'д']\n",
    "df_filtr"
   ]
  },
  {
   "cell_type": "code",
   "execution_count": 14,
   "metadata": {
    "scrolled": true
   },
   "outputs": [
    {
     "data": {
      "text/plain": [
       "array(['title', 'rating', 'almond', 'amaretto', 'anchovy', 'aperitif',\n",
       "       'apple', 'apple juice', 'apricot', 'artichoke', 'asian pear',\n",
       "       'asparagus', 'avocado', 'bacon', 'banana', 'barley', 'basil',\n",
       "       'bean', 'beef', 'beef rib', 'beef shank', 'beef tenderloin',\n",
       "       'beer', 'beet', 'bell pepper', 'blackberry', 'blue cheese',\n",
       "       'blueberry', 'bran', 'brandy', 'breadcrumbs', 'brie', 'brine',\n",
       "       'brisket', 'broccoli', 'broccoli rabe', 'brown rice',\n",
       "       'brussel sprout', 'bulgur', 'burrito', 'butter',\n",
       "       'butterscotch/caramel', 'cabbage', 'cantaloupe', 'capers',\n",
       "       'caraway', 'cardamom', 'carrot', 'cashew', 'cauliflower', 'celery',\n",
       "       'champagne', 'chard', 'cheddar', 'cheese', 'cherry', 'chestnut',\n",
       "       'chicken', 'chickpea', 'chile pepper', 'chili', 'chocolate',\n",
       "       'cilantro', 'cinnamon', 'clove', 'coconut', 'cod', 'coffee',\n",
       "       'cognac/armagnac', 'coriander', 'corn', 'cornmeal',\n",
       "       'cottage cheese', 'couscous', 'crab', 'cranberry',\n",
       "       'cranberry sauce', 'cream cheese', 'créme de cacao', 'cucumber',\n",
       "       'cumin', 'currant', 'curry', 'custard', 'dill', 'duck', 'egg',\n",
       "       'eggplant', 'feta', 'fig', 'fruit', 'fruit juice', 'garlic', 'gin',\n",
       "       'ginger', 'goat cheese', 'goose', 'gouda', 'granola', 'grape',\n",
       "       'grapefruit', 'green bean', 'green onion/scallion', 'ground beef',\n",
       "       'ground lamb', 'guava', 'halibut', 'ham', 'hazelnut',\n",
       "       'hominy/cornmeal/masa', 'honeydew', 'horseradish', 'hot pepper',\n",
       "       'hummus', 'ice cream', 'iowa', 'jalapeño', 'jam or jelly', 'kale',\n",
       "       'kiwi', 'lamb', 'lamb chop', 'lamb shank', 'leek', 'lemon',\n",
       "       'lemon juice', 'lemongrass', 'lentil', 'lime', 'lime juice',\n",
       "       'liqueur', 'lobster', 'lychee', 'macadamia nut', 'mango',\n",
       "       'maple syrup', 'marscarpone', 'marshmallow', 'martini',\n",
       "       'mayonnaise', 'melon', 'milk/cream', 'mint', 'mozzarella',\n",
       "       'mussel', 'mustard', 'mustard greens', 'nectarine', 'oatmeal',\n",
       "       'octopus', 'onion', 'orange', 'orange juice', 'oregano', 'orzo',\n",
       "       'oyster', 'papaya', 'paprika', 'parmesan', 'parsley',\n",
       "       'passion fruit', 'pasta', 'pastry', 'pea', 'peach', 'peanut',\n",
       "       'peanut butter', 'pear', 'pepper', 'persimmon', 'pine nut',\n",
       "       'pineapple', 'pistachio', 'plum', 'pomegranate',\n",
       "       'pomegranate juice', 'pork', 'pork chop', 'pork rib',\n",
       "       'pork tenderloin', 'potato', 'prosciutto', 'prune', 'pumpkin',\n",
       "       'rabbit', 'rack of lamb', 'radish', 'raisin', 'raspberry',\n",
       "       'red wine', 'rice', 'ricotta', 'rum', 'rye', 'saffron', 'sake',\n",
       "       'salad', 'salad dressing', 'salmon', 'salsa', 'sardine', 'sausage',\n",
       "       'scallop', 'scotch', 'semolina', 'sesame', 'sesame oil', 'shallot',\n",
       "       'shellfish', 'shrimp', 'snapper', 'sour cream', 'sourdough',\n",
       "       'spinach', 'squid', 'strawberry', 'sweet potato/yam',\n",
       "       'swiss cheese', 'swordfish', 'tequila', 'thyme', 'tilapia', 'tofu',\n",
       "       'tomato', 'trout', 'tuna', 'turnip', 'vanilla', 'veal', 'venison',\n",
       "       'vermouth', 'vinegar', 'vodka', 'walnut', 'wasabi', 'watermelon',\n",
       "       'whiskey', 'white wine', 'wild rice', 'yogurt', 'zucchini',\n",
       "       'turkey'], dtype=object)"
      ]
     },
     "execution_count": 14,
     "metadata": {},
     "output_type": "execute_result"
    }
   ],
   "source": [
    "df_filtr.name_real.unique()"
   ]
  },
  {
   "cell_type": "code",
   "execution_count": 15,
   "metadata": {},
   "outputs": [],
   "source": [
    "df_head = df[df_filtr.name_real.unique()]"
   ]
  },
  {
   "cell_type": "markdown",
   "metadata": {
    "id": "0-C8IHUEnwCE"
   },
   "source": [
    "Регрессия\n",
    "\n",
    "Для прогнозирования рейтинга опробуйте различные алгоритмы и их гиперпараметры. Выберите лучшее решение на основе gridsearch и кроссвалидации и оцените RMSE на тестовой подвыборке.\n",
    "Попробуйте различные ансамбли и их гиперпараметры. Выберите лучшее решение на основе gridsearch и кроссвалидации и оцените RMSE на тестовой подвыборке.\n",
    "Посчитайте RMSE для наивного регрессора, в котором вы просто высчитали средний рейтинг."
   ]
  },
  {
   "cell_type": "code",
   "execution_count": 16,
   "metadata": {
    "colab": {
     "base_uri": "https://localhost:8080/",
     "height": 282
    },
    "id": "-pSg7StFcXiT",
    "outputId": "d1787a50-d9a0-46d8-9fca-a871e61d8ea3"
   },
   "outputs": [],
   "source": [
    "X = df_head.drop(columns = ['rating'], axis = 1)\n",
    "y = df_head['rating']"
   ]
  },
  {
   "cell_type": "code",
   "execution_count": 17,
   "metadata": {
    "scrolled": true
   },
   "outputs": [
    {
     "data": {
      "text/plain": [
       "0        2.500\n",
       "1        4.375\n",
       "2        3.750\n",
       "3        5.000\n",
       "4        3.125\n",
       "         ...  \n",
       "20047    3.125\n",
       "20048    4.375\n",
       "20049    4.375\n",
       "20050    4.375\n",
       "20051    4.375\n",
       "Name: rating, Length: 20052, dtype: float64"
      ]
     },
     "execution_count": 17,
     "metadata": {},
     "output_type": "execute_result"
    }
   ],
   "source": [
    "y"
   ]
  },
  {
   "cell_type": "code",
   "execution_count": 18,
   "metadata": {},
   "outputs": [
    {
     "data": {
      "text/html": [
       "<div>\n",
       "<style scoped>\n",
       "    .dataframe tbody tr th:only-of-type {\n",
       "        vertical-align: middle;\n",
       "    }\n",
       "\n",
       "    .dataframe tbody tr th {\n",
       "        vertical-align: top;\n",
       "    }\n",
       "\n",
       "    .dataframe thead th {\n",
       "        text-align: right;\n",
       "    }\n",
       "</style>\n",
       "<table border=\"1\" class=\"dataframe\">\n",
       "  <thead>\n",
       "    <tr style=\"text-align: right;\">\n",
       "      <th></th>\n",
       "      <th>title</th>\n",
       "      <th>almond</th>\n",
       "      <th>amaretto</th>\n",
       "      <th>anchovy</th>\n",
       "      <th>aperitif</th>\n",
       "      <th>apple</th>\n",
       "      <th>apple juice</th>\n",
       "      <th>apricot</th>\n",
       "      <th>artichoke</th>\n",
       "      <th>asian pear</th>\n",
       "      <th>...</th>\n",
       "      <th>vodka</th>\n",
       "      <th>walnut</th>\n",
       "      <th>wasabi</th>\n",
       "      <th>watermelon</th>\n",
       "      <th>whiskey</th>\n",
       "      <th>white wine</th>\n",
       "      <th>wild rice</th>\n",
       "      <th>yogurt</th>\n",
       "      <th>zucchini</th>\n",
       "      <th>turkey</th>\n",
       "    </tr>\n",
       "  </thead>\n",
       "  <tbody>\n",
       "    <tr>\n",
       "      <th>0</th>\n",
       "      <td>Lentil, Apple, and Turkey Wrap</td>\n",
       "      <td>0.0</td>\n",
       "      <td>0.0</td>\n",
       "      <td>0.0</td>\n",
       "      <td>0.0</td>\n",
       "      <td>1.0</td>\n",
       "      <td>0.0</td>\n",
       "      <td>0.0</td>\n",
       "      <td>0.0</td>\n",
       "      <td>0.0</td>\n",
       "      <td>...</td>\n",
       "      <td>0.0</td>\n",
       "      <td>0.0</td>\n",
       "      <td>0.0</td>\n",
       "      <td>0.0</td>\n",
       "      <td>0.0</td>\n",
       "      <td>0.0</td>\n",
       "      <td>0.0</td>\n",
       "      <td>0.0</td>\n",
       "      <td>0.0</td>\n",
       "      <td>1.0</td>\n",
       "    </tr>\n",
       "    <tr>\n",
       "      <th>1</th>\n",
       "      <td>Boudin Blanc Terrine with Red Onion Confit</td>\n",
       "      <td>0.0</td>\n",
       "      <td>0.0</td>\n",
       "      <td>0.0</td>\n",
       "      <td>0.0</td>\n",
       "      <td>0.0</td>\n",
       "      <td>0.0</td>\n",
       "      <td>0.0</td>\n",
       "      <td>0.0</td>\n",
       "      <td>0.0</td>\n",
       "      <td>...</td>\n",
       "      <td>0.0</td>\n",
       "      <td>0.0</td>\n",
       "      <td>0.0</td>\n",
       "      <td>0.0</td>\n",
       "      <td>0.0</td>\n",
       "      <td>0.0</td>\n",
       "      <td>0.0</td>\n",
       "      <td>0.0</td>\n",
       "      <td>0.0</td>\n",
       "      <td>0.0</td>\n",
       "    </tr>\n",
       "    <tr>\n",
       "      <th>2</th>\n",
       "      <td>Potato and Fennel Soup Hodge</td>\n",
       "      <td>0.0</td>\n",
       "      <td>0.0</td>\n",
       "      <td>0.0</td>\n",
       "      <td>0.0</td>\n",
       "      <td>0.0</td>\n",
       "      <td>0.0</td>\n",
       "      <td>0.0</td>\n",
       "      <td>0.0</td>\n",
       "      <td>0.0</td>\n",
       "      <td>...</td>\n",
       "      <td>0.0</td>\n",
       "      <td>0.0</td>\n",
       "      <td>0.0</td>\n",
       "      <td>0.0</td>\n",
       "      <td>0.0</td>\n",
       "      <td>0.0</td>\n",
       "      <td>0.0</td>\n",
       "      <td>0.0</td>\n",
       "      <td>0.0</td>\n",
       "      <td>0.0</td>\n",
       "    </tr>\n",
       "    <tr>\n",
       "      <th>3</th>\n",
       "      <td>Mahi-Mahi in Tomato Olive Sauce</td>\n",
       "      <td>0.0</td>\n",
       "      <td>0.0</td>\n",
       "      <td>0.0</td>\n",
       "      <td>0.0</td>\n",
       "      <td>0.0</td>\n",
       "      <td>0.0</td>\n",
       "      <td>0.0</td>\n",
       "      <td>0.0</td>\n",
       "      <td>0.0</td>\n",
       "      <td>...</td>\n",
       "      <td>0.0</td>\n",
       "      <td>0.0</td>\n",
       "      <td>0.0</td>\n",
       "      <td>0.0</td>\n",
       "      <td>0.0</td>\n",
       "      <td>0.0</td>\n",
       "      <td>0.0</td>\n",
       "      <td>0.0</td>\n",
       "      <td>0.0</td>\n",
       "      <td>0.0</td>\n",
       "    </tr>\n",
       "    <tr>\n",
       "      <th>4</th>\n",
       "      <td>Spinach Noodle Casserole</td>\n",
       "      <td>0.0</td>\n",
       "      <td>0.0</td>\n",
       "      <td>0.0</td>\n",
       "      <td>0.0</td>\n",
       "      <td>0.0</td>\n",
       "      <td>0.0</td>\n",
       "      <td>0.0</td>\n",
       "      <td>0.0</td>\n",
       "      <td>0.0</td>\n",
       "      <td>...</td>\n",
       "      <td>0.0</td>\n",
       "      <td>0.0</td>\n",
       "      <td>0.0</td>\n",
       "      <td>0.0</td>\n",
       "      <td>0.0</td>\n",
       "      <td>0.0</td>\n",
       "      <td>0.0</td>\n",
       "      <td>0.0</td>\n",
       "      <td>0.0</td>\n",
       "      <td>0.0</td>\n",
       "    </tr>\n",
       "    <tr>\n",
       "      <th>...</th>\n",
       "      <td>...</td>\n",
       "      <td>...</td>\n",
       "      <td>...</td>\n",
       "      <td>...</td>\n",
       "      <td>...</td>\n",
       "      <td>...</td>\n",
       "      <td>...</td>\n",
       "      <td>...</td>\n",
       "      <td>...</td>\n",
       "      <td>...</td>\n",
       "      <td>...</td>\n",
       "      <td>...</td>\n",
       "      <td>...</td>\n",
       "      <td>...</td>\n",
       "      <td>...</td>\n",
       "      <td>...</td>\n",
       "      <td>...</td>\n",
       "      <td>...</td>\n",
       "      <td>...</td>\n",
       "      <td>...</td>\n",
       "      <td>...</td>\n",
       "    </tr>\n",
       "    <tr>\n",
       "      <th>20047</th>\n",
       "      <td>Parmesan Puffs</td>\n",
       "      <td>0.0</td>\n",
       "      <td>0.0</td>\n",
       "      <td>0.0</td>\n",
       "      <td>0.0</td>\n",
       "      <td>0.0</td>\n",
       "      <td>0.0</td>\n",
       "      <td>0.0</td>\n",
       "      <td>0.0</td>\n",
       "      <td>0.0</td>\n",
       "      <td>...</td>\n",
       "      <td>0.0</td>\n",
       "      <td>0.0</td>\n",
       "      <td>0.0</td>\n",
       "      <td>0.0</td>\n",
       "      <td>0.0</td>\n",
       "      <td>0.0</td>\n",
       "      <td>0.0</td>\n",
       "      <td>0.0</td>\n",
       "      <td>0.0</td>\n",
       "      <td>0.0</td>\n",
       "    </tr>\n",
       "    <tr>\n",
       "      <th>20048</th>\n",
       "      <td>Artichoke and Parmesan Risotto</td>\n",
       "      <td>0.0</td>\n",
       "      <td>0.0</td>\n",
       "      <td>0.0</td>\n",
       "      <td>0.0</td>\n",
       "      <td>0.0</td>\n",
       "      <td>0.0</td>\n",
       "      <td>0.0</td>\n",
       "      <td>1.0</td>\n",
       "      <td>0.0</td>\n",
       "      <td>...</td>\n",
       "      <td>0.0</td>\n",
       "      <td>0.0</td>\n",
       "      <td>0.0</td>\n",
       "      <td>0.0</td>\n",
       "      <td>0.0</td>\n",
       "      <td>0.0</td>\n",
       "      <td>0.0</td>\n",
       "      <td>0.0</td>\n",
       "      <td>0.0</td>\n",
       "      <td>0.0</td>\n",
       "    </tr>\n",
       "    <tr>\n",
       "      <th>20049</th>\n",
       "      <td>Turkey Cream Puff Pie</td>\n",
       "      <td>0.0</td>\n",
       "      <td>0.0</td>\n",
       "      <td>0.0</td>\n",
       "      <td>0.0</td>\n",
       "      <td>0.0</td>\n",
       "      <td>0.0</td>\n",
       "      <td>0.0</td>\n",
       "      <td>0.0</td>\n",
       "      <td>0.0</td>\n",
       "      <td>...</td>\n",
       "      <td>0.0</td>\n",
       "      <td>0.0</td>\n",
       "      <td>0.0</td>\n",
       "      <td>0.0</td>\n",
       "      <td>0.0</td>\n",
       "      <td>0.0</td>\n",
       "      <td>0.0</td>\n",
       "      <td>0.0</td>\n",
       "      <td>0.0</td>\n",
       "      <td>1.0</td>\n",
       "    </tr>\n",
       "    <tr>\n",
       "      <th>20050</th>\n",
       "      <td>Snapper on Angel Hair with Citrus Cream</td>\n",
       "      <td>0.0</td>\n",
       "      <td>0.0</td>\n",
       "      <td>0.0</td>\n",
       "      <td>0.0</td>\n",
       "      <td>0.0</td>\n",
       "      <td>0.0</td>\n",
       "      <td>0.0</td>\n",
       "      <td>0.0</td>\n",
       "      <td>0.0</td>\n",
       "      <td>...</td>\n",
       "      <td>0.0</td>\n",
       "      <td>0.0</td>\n",
       "      <td>0.0</td>\n",
       "      <td>0.0</td>\n",
       "      <td>0.0</td>\n",
       "      <td>0.0</td>\n",
       "      <td>0.0</td>\n",
       "      <td>0.0</td>\n",
       "      <td>0.0</td>\n",
       "      <td>0.0</td>\n",
       "    </tr>\n",
       "    <tr>\n",
       "      <th>20051</th>\n",
       "      <td>Baked Ham with Marmalade-Horseradish Glaze</td>\n",
       "      <td>0.0</td>\n",
       "      <td>0.0</td>\n",
       "      <td>0.0</td>\n",
       "      <td>0.0</td>\n",
       "      <td>0.0</td>\n",
       "      <td>0.0</td>\n",
       "      <td>0.0</td>\n",
       "      <td>0.0</td>\n",
       "      <td>0.0</td>\n",
       "      <td>...</td>\n",
       "      <td>0.0</td>\n",
       "      <td>0.0</td>\n",
       "      <td>0.0</td>\n",
       "      <td>0.0</td>\n",
       "      <td>0.0</td>\n",
       "      <td>0.0</td>\n",
       "      <td>0.0</td>\n",
       "      <td>0.0</td>\n",
       "      <td>0.0</td>\n",
       "      <td>0.0</td>\n",
       "    </tr>\n",
       "  </tbody>\n",
       "</table>\n",
       "<p>20052 rows × 241 columns</p>\n",
       "</div>"
      ],
      "text/plain": [
       "                                             title  almond  amaretto  anchovy  \\\n",
       "0                  Lentil, Apple, and Turkey Wrap      0.0       0.0      0.0   \n",
       "1      Boudin Blanc Terrine with Red Onion Confit      0.0       0.0      0.0   \n",
       "2                    Potato and Fennel Soup Hodge      0.0       0.0      0.0   \n",
       "3                 Mahi-Mahi in Tomato Olive Sauce      0.0       0.0      0.0   \n",
       "4                        Spinach Noodle Casserole      0.0       0.0      0.0   \n",
       "...                                            ...     ...       ...      ...   \n",
       "20047                              Parmesan Puffs      0.0       0.0      0.0   \n",
       "20048              Artichoke and Parmesan Risotto      0.0       0.0      0.0   \n",
       "20049                       Turkey Cream Puff Pie      0.0       0.0      0.0   \n",
       "20050     Snapper on Angel Hair with Citrus Cream      0.0       0.0      0.0   \n",
       "20051  Baked Ham with Marmalade-Horseradish Glaze      0.0       0.0      0.0   \n",
       "\n",
       "       aperitif  apple  apple juice  apricot  artichoke  asian pear  ...  \\\n",
       "0           0.0    1.0          0.0      0.0        0.0         0.0  ...   \n",
       "1           0.0    0.0          0.0      0.0        0.0         0.0  ...   \n",
       "2           0.0    0.0          0.0      0.0        0.0         0.0  ...   \n",
       "3           0.0    0.0          0.0      0.0        0.0         0.0  ...   \n",
       "4           0.0    0.0          0.0      0.0        0.0         0.0  ...   \n",
       "...         ...    ...          ...      ...        ...         ...  ...   \n",
       "20047       0.0    0.0          0.0      0.0        0.0         0.0  ...   \n",
       "20048       0.0    0.0          0.0      0.0        1.0         0.0  ...   \n",
       "20049       0.0    0.0          0.0      0.0        0.0         0.0  ...   \n",
       "20050       0.0    0.0          0.0      0.0        0.0         0.0  ...   \n",
       "20051       0.0    0.0          0.0      0.0        0.0         0.0  ...   \n",
       "\n",
       "       vodka  walnut  wasabi  watermelon  whiskey  white wine  wild rice  \\\n",
       "0        0.0     0.0     0.0         0.0      0.0         0.0        0.0   \n",
       "1        0.0     0.0     0.0         0.0      0.0         0.0        0.0   \n",
       "2        0.0     0.0     0.0         0.0      0.0         0.0        0.0   \n",
       "3        0.0     0.0     0.0         0.0      0.0         0.0        0.0   \n",
       "4        0.0     0.0     0.0         0.0      0.0         0.0        0.0   \n",
       "...      ...     ...     ...         ...      ...         ...        ...   \n",
       "20047    0.0     0.0     0.0         0.0      0.0         0.0        0.0   \n",
       "20048    0.0     0.0     0.0         0.0      0.0         0.0        0.0   \n",
       "20049    0.0     0.0     0.0         0.0      0.0         0.0        0.0   \n",
       "20050    0.0     0.0     0.0         0.0      0.0         0.0        0.0   \n",
       "20051    0.0     0.0     0.0         0.0      0.0         0.0        0.0   \n",
       "\n",
       "       yogurt  zucchini  turkey  \n",
       "0         0.0       0.0     1.0  \n",
       "1         0.0       0.0     0.0  \n",
       "2         0.0       0.0     0.0  \n",
       "3         0.0       0.0     0.0  \n",
       "4         0.0       0.0     0.0  \n",
       "...       ...       ...     ...  \n",
       "20047     0.0       0.0     0.0  \n",
       "20048     0.0       0.0     0.0  \n",
       "20049     0.0       0.0     1.0  \n",
       "20050     0.0       0.0     0.0  \n",
       "20051     0.0       0.0     0.0  \n",
       "\n",
       "[20052 rows x 241 columns]"
      ]
     },
     "execution_count": 18,
     "metadata": {},
     "output_type": "execute_result"
    }
   ],
   "source": [
    "X"
   ]
  },
  {
   "cell_type": "code",
   "execution_count": 236,
   "metadata": {
    "scrolled": true
   },
   "outputs": [],
   "source": [
    "X_train, X_test, y_train, y_test = train_test_split(X, y, test_size=0.2, random_state=21, stratify = y)"
   ]
  },
  {
   "cell_type": "markdown",
   "metadata": {},
   "source": [
    "# RandomForest"
   ]
  },
  {
   "cell_type": "code",
   "execution_count": 237,
   "metadata": {},
   "outputs": [
    {
     "data": {
      "text/plain": [
       "{'max_depth': 50, 'max_features': 10, 'n_estimators': 100}"
      ]
     },
     "execution_count": 237,
     "metadata": {},
     "output_type": "execute_result"
    }
   ],
   "source": [
    "params_rf = {'n_estimators' : [10, 50, 100],\n",
    "                'max_depth' : [10, 50, 100],\n",
    "               'max_features' : [10, 50, 100]}\n",
    "rf = GridSearchCV(RandomForestRegressor(random_state = 21), params_rf, cv = 10, n_jobs = -1)\n",
    "rf.fit(X_train, y_train)\n",
    "rf.best_params_"
   ]
  },
  {
   "cell_type": "code",
   "execution_count": 255,
   "metadata": {},
   "outputs": [
    {
     "data": {
      "text/plain": [
       "-1.732412225054027"
      ]
     },
     "execution_count": 255,
     "metadata": {},
     "output_type": "execute_result"
    }
   ],
   "source": [
    "rf_best = RandomForestRegressor(max_depth = 50, n_estimators = 100, max_features = 10).fit(X_train, y_train)\n",
    "cross_val_score(rf_best, X_test, y_test, cv = 10, scoring = 'neg_mean_squared_error', n_jobs = -1).mean()"
   ]
  },
  {
   "cell_type": "code",
   "execution_count": 244,
   "metadata": {},
   "outputs": [
    {
     "data": {
      "text/plain": [
       "0.033722173425883475"
      ]
     },
     "execution_count": 244,
     "metadata": {},
     "output_type": "execute_result"
    }
   ],
   "source": [
    "cross_val_score(rf_best, X_test, y_test, cv = 10, n_jobs = -1).mean()"
   ]
  },
  {
   "cell_type": "markdown",
   "metadata": {},
   "source": [
    "# DisicionTree"
   ]
  },
  {
   "cell_type": "code",
   "execution_count": 251,
   "metadata": {},
   "outputs": [
    {
     "data": {
      "text/plain": [
       "{'max_depth': 10, 'max_features': 10, 'min_samples_split': 10}"
      ]
     },
     "execution_count": 251,
     "metadata": {},
     "output_type": "execute_result"
    }
   ],
   "source": [
    "tree_params = {'min_samples_split' : [10, 50, 100],\n",
    "                'max_depth' : [10, 50, 100],\n",
    "               'max_features' : [10, 50, 100]}\n",
    "tree = GridSearchCV(DecisionTreeRegressor(), param_grid = tree_params, scoring = 'accuracy', cv = 10, n_jobs = -1)\n",
    "tree.fit(X_train, y_train)\n",
    "tree.best_params_"
   ]
  },
  {
   "cell_type": "code",
   "execution_count": 253,
   "metadata": {},
   "outputs": [
    {
     "data": {
      "text/plain": [
       "-1.7926816404945416"
      ]
     },
     "execution_count": 253,
     "metadata": {},
     "output_type": "execute_result"
    }
   ],
   "source": [
    "tree_best = DecisionTreeRegressor(max_depth = 10, min_samples_split = 10, max_features = 10).fit(X_train, y_train)\n",
    "cross_val_score(tree_best, X_test, y_test, cv = 10, scoring = 'neg_mean_squared_error', n_jobs = -1).mean()"
   ]
  },
  {
   "cell_type": "code",
   "execution_count": 254,
   "metadata": {
    "scrolled": false
   },
   "outputs": [
    {
     "data": {
      "text/plain": [
       "-0.004674538420206232"
      ]
     },
     "execution_count": 254,
     "metadata": {},
     "output_type": "execute_result"
    }
   ],
   "source": [
    "cross_val_score(tree_best, X_test, y_test, cv = 10, n_jobs = -1).mean()"
   ]
  },
  {
   "cell_type": "markdown",
   "metadata": {},
   "source": [
    "# Voting"
   ]
  },
  {
   "cell_type": "code",
   "execution_count": 319,
   "metadata": {},
   "outputs": [
    {
     "data": {
      "text/plain": [
       "{'weights': (1, 5)}"
      ]
     },
     "execution_count": 319,
     "metadata": {},
     "output_type": "execute_result"
    }
   ],
   "source": [
    "vc_params = {'weights' : [(1, 5), (1, 2)]}\n",
    "vc = GridSearchCV(VotingRegressor(estimators = [('DicisionTreeRegressor', tree_best), ('RandomForestRegressor', rf_best)]), \n",
    "                  param_grid = vc_params, scoring = 'accuracy')\n",
    "vc.fit(X_train, y_train)\n",
    "vc.best_params_"
   ]
  },
  {
   "cell_type": "code",
   "execution_count": 299,
   "metadata": {},
   "outputs": [
    {
     "data": {
      "text/plain": [
       "0.08156706680669212"
      ]
     },
     "execution_count": 299,
     "metadata": {},
     "output_type": "execute_result"
    }
   ],
   "source": [
    "vc.score(X_test, y_test)"
   ]
  },
  {
   "cell_type": "code",
   "execution_count": 320,
   "metadata": {},
   "outputs": [
    {
     "data": {
      "text/plain": [
       "-1.7205653785065507"
      ]
     },
     "execution_count": 320,
     "metadata": {},
     "output_type": "execute_result"
    }
   ],
   "source": [
    "vc_best = VotingRegressor(estimators = [('DicisionTreeRegressor', tree_best), ('RandomForestRegressor', rf_best)], weights = [1, 5]).fit(X_train, y_train)\n",
    "cross_val_score(vc_best, X_test, y_test, cv = 10, scoring = 'neg_mean_squared_error', n_jobs = -1).mean()"
   ]
  },
  {
   "cell_type": "markdown",
   "metadata": {},
   "source": [
    "# Bagging"
   ]
  },
  {
   "cell_type": "code",
   "execution_count": 331,
   "metadata": {},
   "outputs": [
    {
     "data": {
      "text/plain": [
       "{'n_estimators': 10}"
      ]
     },
     "execution_count": 331,
     "metadata": {},
     "output_type": "execute_result"
    }
   ],
   "source": [
    "bag_params = {'n_estimators' : [10, 20, 30]}\n",
    "bag = GridSearchCV(BaggingRegressor(base_estimator = tree_best), \n",
    "                  param_grid = bag_params, scoring = 'accuracy')\n",
    "bag.fit(X_train, y_train)\n",
    "bag.best_params_"
   ]
  },
  {
   "cell_type": "code",
   "execution_count": 336,
   "metadata": {},
   "outputs": [
    {
     "data": {
      "text/plain": [
       "-1.730099803672554"
      ]
     },
     "execution_count": 336,
     "metadata": {},
     "output_type": "execute_result"
    }
   ],
   "source": [
    "bag_best = BaggingRegressor(base_estimator = tree_best, n_estimators = 10)\n",
    "cross_val_score(bag_best, X_test, y_test, cv = 10, scoring = 'neg_mean_squared_error', n_jobs = -1).mean()"
   ]
  },
  {
   "cell_type": "code",
   "execution_count": 338,
   "metadata": {},
   "outputs": [
    {
     "data": {
      "text/plain": [
       "{'n_estimators': 10}"
      ]
     },
     "execution_count": 338,
     "metadata": {},
     "output_type": "execute_result"
    }
   ],
   "source": [
    "bag_params = {'n_estimators' : [10, 20, 30]}\n",
    "bag = GridSearchCV(BaggingRegressor(base_estimator = rf_best), \n",
    "                  param_grid = bag_params, scoring = 'accuracy')\n",
    "bag.fit(X_train, y_train)\n",
    "bag.best_params_"
   ]
  },
  {
   "cell_type": "code",
   "execution_count": 340,
   "metadata": {},
   "outputs": [
    {
     "data": {
      "text/plain": [
       "-1.7099153045163586"
      ]
     },
     "execution_count": 340,
     "metadata": {},
     "output_type": "execute_result"
    }
   ],
   "source": [
    "bag_best = BaggingRegressor(base_estimator = rf_best, n_estimators = 10)\n",
    "cross_val_score(bag_best, X_test, y_test, cv = 10, scoring = 'neg_mean_squared_error', n_jobs = -1).mean()"
   ]
  },
  {
   "cell_type": "markdown",
   "metadata": {},
   "source": [
    "# Stacking"
   ]
  },
  {
   "cell_type": "code",
   "execution_count": 348,
   "metadata": {},
   "outputs": [
    {
     "data": {
      "text/plain": [
       "{'passthrough': True}"
      ]
     },
     "execution_count": 348,
     "metadata": {},
     "output_type": "execute_result"
    }
   ],
   "source": [
    "st_params = {'passthrough' : [True, False]}\n",
    "st = GridSearchCV(StackingRegressor(estimators = [('DicisionTreeRegressor', tree_best), ('RandomForestRegressor', rf_best)]), \n",
    "                  param_grid = st_params, scoring = 'accuracy')\n",
    "st.fit(X_train, y_train)\n",
    "st.best_params_"
   ]
  },
  {
   "cell_type": "code",
   "execution_count": 349,
   "metadata": {},
   "outputs": [
    {
     "data": {
      "text/plain": [
       "-1.7153301944075963"
      ]
     },
     "execution_count": 349,
     "metadata": {},
     "output_type": "execute_result"
    }
   ],
   "source": [
    "st_best = StackingRegressor(estimators = [('DicisionTreeRegressor', tree_best), ('RandomForestRegressor', rf_best)], passthrough = True)\n",
    "cross_val_score(st_best, X_test, y_test, cv = 10, scoring = 'neg_mean_squared_error', n_jobs = -1).mean()"
   ]
  },
  {
   "cell_type": "markdown",
   "metadata": {},
   "source": [
    "# Naiv classifier"
   ]
  },
  {
   "cell_type": "code",
   "execution_count": 339,
   "metadata": {},
   "outputs": [
    {
     "data": {
      "text/plain": [
       "3.7146285215656945"
      ]
     },
     "execution_count": 339,
     "metadata": {},
     "output_type": "execute_result"
    }
   ],
   "source": [
    "y_mean = y_test.mean()\n",
    "y_mean"
   ]
  },
  {
   "cell_type": "code",
   "execution_count": 352,
   "metadata": {},
   "outputs": [
    {
     "data": {
      "text/plain": [
       "1.3406047250383304"
      ]
     },
     "execution_count": 352,
     "metadata": {},
     "output_type": "execute_result"
    }
   ],
   "source": [
    "y_pred = [y_mean for i in range(len(y_test))]\n",
    "math.sqrt(mean_squared_error(y_pred, y_test))"
   ]
  },
  {
   "cell_type": "markdown",
   "metadata": {},
   "source": [
    "# Классификация\n",
    "\n",
    "Бинаризируйте значения целевой переменной путем округления рейтингов до ближайшего целого числа. Это и будут ваши классы.\n",
    "Для прогнозирования классов попробуйте различные алгоритмы и их гиперпараметры. \n",
    "Выберите лучшее решение на основе gridsearch и кроссвалидации и посчитайте accuracy на тестовой подвыборке.\n",
    "Рассчитайте значение accuracy наивного классификатора, в котором вы для всех наблюдений прогнозируете наиболее распространенный класс. \n",
    "Сравните метрики."
   ]
  },
  {
   "cell_type": "code",
   "execution_count": 354,
   "metadata": {},
   "outputs": [
    {
     "data": {
      "text/plain": [
       "array([2, 4, 5, 3, 0, 1])"
      ]
     },
     "execution_count": 354,
     "metadata": {},
     "output_type": "execute_result"
    }
   ],
   "source": [
    "y = round(y, 0).astype(int)\n",
    "y.unique()"
   ]
  },
  {
   "cell_type": "code",
   "execution_count": 355,
   "metadata": {},
   "outputs": [],
   "source": [
    "X_train, X_test, y_train, y_test = train_test_split(X, y, test_size=0.2, random_state=21, stratify = y)"
   ]
  },
  {
   "cell_type": "markdown",
   "metadata": {},
   "source": [
    "# DicisionTree"
   ]
  },
  {
   "cell_type": "code",
   "execution_count": 356,
   "metadata": {},
   "outputs": [],
   "source": [
    "param_grid = {'max_depth': range(1, 20),\n",
    "             'class_weight' : ['balanced', None],\n",
    "             'criterion' : ['entropy', 'gini']}"
   ]
  },
  {
   "cell_type": "code",
   "execution_count": 357,
   "metadata": {},
   "outputs": [
    {
     "data": {
      "text/plain": [
       "0.6633625697364567"
      ]
     },
     "execution_count": 357,
     "metadata": {},
     "output_type": "execute_result"
    }
   ],
   "source": [
    "grid = GridSearchCV(estimator = DecisionTreeClassifier(random_state=21), param_grid = param_grid)\n",
    "grid.fit(X_train, y_train)\n",
    "grid.best_score_"
   ]
  },
  {
   "cell_type": "code",
   "execution_count": null,
   "metadata": {},
   "outputs": [],
   "source": [
    "grid.best_params_"
   ]
  },
  {
   "cell_type": "code",
   "execution_count": 358,
   "metadata": {},
   "outputs": [
    {
     "data": {
      "text/plain": [
       "-1.8220096524857012"
      ]
     },
     "execution_count": 358,
     "metadata": {},
     "output_type": "execute_result"
    }
   ],
   "source": [
    "cross_val_score(grid, X_test, y_test, cv = 10, scoring = 'neg_mean_squared_error', n_jobs = -1).mean()"
   ]
  },
  {
   "cell_type": "markdown",
   "metadata": {},
   "source": [
    "# RandomForest"
   ]
  },
  {
   "cell_type": "code",
   "execution_count": 360,
   "metadata": {},
   "outputs": [
    {
     "data": {
      "text/plain": [
       "0.6676638685306054"
      ]
     },
     "execution_count": 360,
     "metadata": {},
     "output_type": "execute_result"
    }
   ],
   "source": [
    "param_rf = {'n_estimators': [5, 10, 30, 50],\n",
    "              'max_depth' : range(1, 50),\n",
    "             'class_weight' : ['balanced', None],\n",
    "             'criterion' : ['entropy', 'gini']}\n",
    "rf_grid = GridSearchCV(estimator = RandomForestClassifier(random_state=21), param_grid = param_rf)\n",
    "rf_grid.fit(X_train, y_train)\n",
    "rf_grid.best_score_"
   ]
  },
  {
   "cell_type": "code",
   "execution_count": 361,
   "metadata": {},
   "outputs": [
    {
     "data": {
      "text/plain": [
       "{'class_weight': None,\n",
       " 'criterion': 'entropy',\n",
       " 'max_depth': 35,\n",
       " 'n_estimators': 30}"
      ]
     },
     "execution_count": 361,
     "metadata": {},
     "output_type": "execute_result"
    }
   ],
   "source": [
    "rf_grid.best_params_"
   ]
  },
  {
   "cell_type": "code",
   "execution_count": 362,
   "metadata": {},
   "outputs": [
    {
     "data": {
      "text/plain": [
       "-1.8439746405131452"
      ]
     },
     "execution_count": 362,
     "metadata": {},
     "output_type": "execute_result"
    }
   ],
   "source": [
    "cross_val_score(rf_grid, X_test, y_test, cv = 10, scoring = 'neg_mean_squared_error', n_jobs = -1).mean()"
   ]
  },
  {
   "cell_type": "markdown",
   "metadata": {},
   "source": [
    "# LogisticRegression"
   ]
  },
  {
   "cell_type": "code",
   "execution_count": 363,
   "metadata": {},
   "outputs": [
    {
     "data": {
      "text/plain": [
       "0.6662298756070248"
      ]
     },
     "execution_count": 363,
     "metadata": {},
     "output_type": "execute_result"
    }
   ],
   "source": [
    "param_lr = {'penalty': ['l2', None],\n",
    "              'solver' : ['newton-cg', 'lbfgs', 'sag', 'saga'],\n",
    "             'fit_intercept' : [True, False]}\n",
    "lr_grid = GridSearchCV(estimator = LogisticRegression(random_state=21), param_grid = param_lr)\n",
    "lr_grid.fit(X_train, y_train)\n",
    "lr_grid.best_score_"
   ]
  },
  {
   "cell_type": "code",
   "execution_count": 364,
   "metadata": {},
   "outputs": [
    {
     "data": {
      "text/plain": [
       "{'fit_intercept': True, 'penalty': 'l2', 'solver': 'newton-cg'}"
      ]
     },
     "execution_count": 364,
     "metadata": {},
     "output_type": "execute_result"
    }
   ],
   "source": [
    "lr_grid.best_params_"
   ]
  },
  {
   "cell_type": "code",
   "execution_count": 365,
   "metadata": {},
   "outputs": [
    {
     "data": {
      "text/plain": [
       "-1.952370317986129"
      ]
     },
     "execution_count": 365,
     "metadata": {},
     "output_type": "execute_result"
    }
   ],
   "source": [
    "cross_val_score(lr_grid, X_test, y_test, cv = 10, scoring = 'neg_mean_squared_error', n_jobs = -1).mean()"
   ]
  },
  {
   "cell_type": "code",
   "execution_count": 366,
   "metadata": {},
   "outputs": [
    {
     "data": {
      "text/plain": [
       "0.6629278793067084"
      ]
     },
     "execution_count": 366,
     "metadata": {},
     "output_type": "execute_result"
    }
   ],
   "source": [
    "cross_val_score(lr_grid, X_test, y_test, cv = 10, n_jobs = -1).mean()"
   ]
  },
  {
   "cell_type": "code",
   "execution_count": 384,
   "metadata": {},
   "outputs": [],
   "source": [
    "y_mean = y_test.mean()\n",
    "y_mean = round(y_mean)"
   ]
  },
  {
   "cell_type": "code",
   "execution_count": 385,
   "metadata": {},
   "outputs": [
    {
     "data": {
      "text/plain": [
       "[4,\n",
       " 4,\n",
       " 4,\n",
       " 4,\n",
       " 4,\n",
       " 4,\n",
       " 4,\n",
       " 4,\n",
       " 4,\n",
       " 4,\n",
       " 4,\n",
       " 4,\n",
       " 4,\n",
       " 4,\n",
       " 4,\n",
       " 4,\n",
       " 4,\n",
       " 4,\n",
       " 4,\n",
       " 4,\n",
       " 4,\n",
       " 4,\n",
       " 4,\n",
       " 4,\n",
       " 4,\n",
       " 4,\n",
       " 4,\n",
       " 4,\n",
       " 4,\n",
       " 4,\n",
       " 4,\n",
       " 4,\n",
       " 4,\n",
       " 4,\n",
       " 4,\n",
       " 4,\n",
       " 4,\n",
       " 4,\n",
       " 4,\n",
       " 4,\n",
       " 4,\n",
       " 4,\n",
       " 4,\n",
       " 4,\n",
       " 4,\n",
       " 4,\n",
       " 4,\n",
       " 4,\n",
       " 4,\n",
       " 4,\n",
       " 4,\n",
       " 4,\n",
       " 4,\n",
       " 4,\n",
       " 4,\n",
       " 4,\n",
       " 4,\n",
       " 4,\n",
       " 4,\n",
       " 4,\n",
       " 4,\n",
       " 4,\n",
       " 4,\n",
       " 4,\n",
       " 4,\n",
       " 4,\n",
       " 4,\n",
       " 4,\n",
       " 4,\n",
       " 4,\n",
       " 4,\n",
       " 4,\n",
       " 4,\n",
       " 4,\n",
       " 4,\n",
       " 4,\n",
       " 4,\n",
       " 4,\n",
       " 4,\n",
       " 4,\n",
       " 4,\n",
       " 4,\n",
       " 4,\n",
       " 4,\n",
       " 4,\n",
       " 4,\n",
       " 4,\n",
       " 4,\n",
       " 4,\n",
       " 4,\n",
       " 4,\n",
       " 4,\n",
       " 4,\n",
       " 4,\n",
       " 4,\n",
       " 4,\n",
       " 4,\n",
       " 4,\n",
       " 4,\n",
       " 4,\n",
       " 4,\n",
       " 4,\n",
       " 4,\n",
       " 4,\n",
       " 4,\n",
       " 4,\n",
       " 4,\n",
       " 4,\n",
       " 4,\n",
       " 4,\n",
       " 4,\n",
       " 4,\n",
       " 4,\n",
       " 4,\n",
       " 4,\n",
       " 4,\n",
       " 4,\n",
       " 4,\n",
       " 4,\n",
       " 4,\n",
       " 4,\n",
       " 4,\n",
       " 4,\n",
       " 4,\n",
       " 4,\n",
       " 4,\n",
       " 4,\n",
       " 4,\n",
       " 4,\n",
       " 4,\n",
       " 4,\n",
       " 4,\n",
       " 4,\n",
       " 4,\n",
       " 4,\n",
       " 4,\n",
       " 4,\n",
       " 4,\n",
       " 4,\n",
       " 4,\n",
       " 4,\n",
       " 4,\n",
       " 4,\n",
       " 4,\n",
       " 4,\n",
       " 4,\n",
       " 4,\n",
       " 4,\n",
       " 4,\n",
       " 4,\n",
       " 4,\n",
       " 4,\n",
       " 4,\n",
       " 4,\n",
       " 4,\n",
       " 4,\n",
       " 4,\n",
       " 4,\n",
       " 4,\n",
       " 4,\n",
       " 4,\n",
       " 4,\n",
       " 4,\n",
       " 4,\n",
       " 4,\n",
       " 4,\n",
       " 4,\n",
       " 4,\n",
       " 4,\n",
       " 4,\n",
       " 4,\n",
       " 4,\n",
       " 4,\n",
       " 4,\n",
       " 4,\n",
       " 4,\n",
       " 4,\n",
       " 4,\n",
       " 4,\n",
       " 4,\n",
       " 4,\n",
       " 4,\n",
       " 4,\n",
       " 4,\n",
       " 4,\n",
       " 4,\n",
       " 4,\n",
       " 4,\n",
       " 4,\n",
       " 4,\n",
       " 4,\n",
       " 4,\n",
       " 4,\n",
       " 4,\n",
       " 4,\n",
       " 4,\n",
       " 4,\n",
       " 4,\n",
       " 4,\n",
       " 4,\n",
       " 4,\n",
       " 4,\n",
       " 4,\n",
       " 4,\n",
       " 4,\n",
       " 4,\n",
       " 4,\n",
       " 4,\n",
       " 4,\n",
       " 4,\n",
       " 4,\n",
       " 4,\n",
       " 4,\n",
       " 4,\n",
       " 4,\n",
       " 4,\n",
       " 4,\n",
       " 4,\n",
       " 4,\n",
       " 4,\n",
       " 4,\n",
       " 4,\n",
       " 4,\n",
       " 4,\n",
       " 4,\n",
       " 4,\n",
       " 4,\n",
       " 4,\n",
       " 4,\n",
       " 4,\n",
       " 4,\n",
       " 4,\n",
       " 4,\n",
       " 4,\n",
       " 4,\n",
       " 4,\n",
       " 4,\n",
       " 4,\n",
       " 4,\n",
       " 4,\n",
       " 4,\n",
       " 4,\n",
       " 4,\n",
       " 4,\n",
       " 4,\n",
       " 4,\n",
       " 4,\n",
       " 4,\n",
       " 4,\n",
       " 4,\n",
       " 4,\n",
       " 4,\n",
       " 4,\n",
       " 4,\n",
       " 4,\n",
       " 4,\n",
       " 4,\n",
       " 4,\n",
       " 4,\n",
       " 4,\n",
       " 4,\n",
       " 4,\n",
       " 4,\n",
       " 4,\n",
       " 4,\n",
       " 4,\n",
       " 4,\n",
       " 4,\n",
       " 4,\n",
       " 4,\n",
       " 4,\n",
       " 4,\n",
       " 4,\n",
       " 4,\n",
       " 4,\n",
       " 4,\n",
       " 4,\n",
       " 4,\n",
       " 4,\n",
       " 4,\n",
       " 4,\n",
       " 4,\n",
       " 4,\n",
       " 4,\n",
       " 4,\n",
       " 4,\n",
       " 4,\n",
       " 4,\n",
       " 4,\n",
       " 4,\n",
       " 4,\n",
       " 4,\n",
       " 4,\n",
       " 4,\n",
       " 4,\n",
       " 4,\n",
       " 4,\n",
       " 4,\n",
       " 4,\n",
       " 4,\n",
       " 4,\n",
       " 4,\n",
       " 4,\n",
       " 4,\n",
       " 4,\n",
       " 4,\n",
       " 4,\n",
       " 4,\n",
       " 4,\n",
       " 4,\n",
       " 4,\n",
       " 4,\n",
       " 4,\n",
       " 4,\n",
       " 4,\n",
       " 4,\n",
       " 4,\n",
       " 4,\n",
       " 4,\n",
       " 4,\n",
       " 4,\n",
       " 4,\n",
       " 4,\n",
       " 4,\n",
       " 4,\n",
       " 4,\n",
       " 4,\n",
       " 4,\n",
       " 4,\n",
       " 4,\n",
       " 4,\n",
       " 4,\n",
       " 4,\n",
       " 4,\n",
       " 4,\n",
       " 4,\n",
       " 4,\n",
       " 4,\n",
       " 4,\n",
       " 4,\n",
       " 4,\n",
       " 4,\n",
       " 4,\n",
       " 4,\n",
       " 4,\n",
       " 4,\n",
       " 4,\n",
       " 4,\n",
       " 4,\n",
       " 4,\n",
       " 4,\n",
       " 4,\n",
       " 4,\n",
       " 4,\n",
       " 4,\n",
       " 4,\n",
       " 4,\n",
       " 4,\n",
       " 4,\n",
       " 4,\n",
       " 4,\n",
       " 4,\n",
       " 4,\n",
       " 4,\n",
       " 4,\n",
       " 4,\n",
       " 4,\n",
       " 4,\n",
       " 4,\n",
       " 4,\n",
       " 4,\n",
       " 4,\n",
       " 4,\n",
       " 4,\n",
       " 4,\n",
       " 4,\n",
       " 4,\n",
       " 4,\n",
       " 4,\n",
       " 4,\n",
       " 4,\n",
       " 4,\n",
       " 4,\n",
       " 4,\n",
       " 4,\n",
       " 4,\n",
       " 4,\n",
       " 4,\n",
       " 4,\n",
       " 4,\n",
       " 4,\n",
       " 4,\n",
       " 4,\n",
       " 4,\n",
       " 4,\n",
       " 4,\n",
       " 4,\n",
       " 4,\n",
       " 4,\n",
       " 4,\n",
       " 4,\n",
       " 4,\n",
       " 4,\n",
       " 4,\n",
       " 4,\n",
       " 4,\n",
       " 4,\n",
       " 4,\n",
       " 4,\n",
       " 4,\n",
       " 4,\n",
       " 4,\n",
       " 4,\n",
       " 4,\n",
       " 4,\n",
       " 4,\n",
       " 4,\n",
       " 4,\n",
       " 4,\n",
       " 4,\n",
       " 4,\n",
       " 4,\n",
       " 4,\n",
       " 4,\n",
       " 4,\n",
       " 4,\n",
       " 4,\n",
       " 4,\n",
       " 4,\n",
       " 4,\n",
       " 4,\n",
       " 4,\n",
       " 4,\n",
       " 4,\n",
       " 4,\n",
       " 4,\n",
       " 4,\n",
       " 4,\n",
       " 4,\n",
       " 4,\n",
       " 4,\n",
       " 4,\n",
       " 4,\n",
       " 4,\n",
       " 4,\n",
       " 4,\n",
       " 4,\n",
       " 4,\n",
       " 4,\n",
       " 4,\n",
       " 4,\n",
       " 4,\n",
       " 4,\n",
       " 4,\n",
       " 4,\n",
       " 4,\n",
       " 4,\n",
       " 4,\n",
       " 4,\n",
       " 4,\n",
       " 4,\n",
       " 4,\n",
       " 4,\n",
       " 4,\n",
       " 4,\n",
       " 4,\n",
       " 4,\n",
       " 4,\n",
       " 4,\n",
       " 4,\n",
       " 4,\n",
       " 4,\n",
       " 4,\n",
       " 4,\n",
       " 4,\n",
       " 4,\n",
       " 4,\n",
       " 4,\n",
       " 4,\n",
       " 4,\n",
       " 4,\n",
       " 4,\n",
       " 4,\n",
       " 4,\n",
       " 4,\n",
       " 4,\n",
       " 4,\n",
       " 4,\n",
       " 4,\n",
       " 4,\n",
       " 4,\n",
       " 4,\n",
       " 4,\n",
       " 4,\n",
       " 4,\n",
       " 4,\n",
       " 4,\n",
       " 4,\n",
       " 4,\n",
       " 4,\n",
       " 4,\n",
       " 4,\n",
       " 4,\n",
       " 4,\n",
       " 4,\n",
       " 4,\n",
       " 4,\n",
       " 4,\n",
       " 4,\n",
       " 4,\n",
       " 4,\n",
       " 4,\n",
       " 4,\n",
       " 4,\n",
       " 4,\n",
       " 4,\n",
       " 4,\n",
       " 4,\n",
       " 4,\n",
       " 4,\n",
       " 4,\n",
       " 4,\n",
       " 4,\n",
       " 4,\n",
       " 4,\n",
       " 4,\n",
       " 4,\n",
       " 4,\n",
       " 4,\n",
       " 4,\n",
       " 4,\n",
       " 4,\n",
       " 4,\n",
       " 4,\n",
       " 4,\n",
       " 4,\n",
       " 4,\n",
       " 4,\n",
       " 4,\n",
       " 4,\n",
       " 4,\n",
       " 4,\n",
       " 4,\n",
       " 4,\n",
       " 4,\n",
       " 4,\n",
       " 4,\n",
       " 4,\n",
       " 4,\n",
       " 4,\n",
       " 4,\n",
       " 4,\n",
       " 4,\n",
       " 4,\n",
       " 4,\n",
       " 4,\n",
       " 4,\n",
       " 4,\n",
       " 4,\n",
       " 4,\n",
       " 4,\n",
       " 4,\n",
       " 4,\n",
       " 4,\n",
       " 4,\n",
       " 4,\n",
       " 4,\n",
       " 4,\n",
       " 4,\n",
       " 4,\n",
       " 4,\n",
       " 4,\n",
       " 4,\n",
       " 4,\n",
       " 4,\n",
       " 4,\n",
       " 4,\n",
       " 4,\n",
       " 4,\n",
       " 4,\n",
       " 4,\n",
       " 4,\n",
       " 4,\n",
       " 4,\n",
       " 4,\n",
       " 4,\n",
       " 4,\n",
       " 4,\n",
       " 4,\n",
       " 4,\n",
       " 4,\n",
       " 4,\n",
       " 4,\n",
       " 4,\n",
       " 4,\n",
       " 4,\n",
       " 4,\n",
       " 4,\n",
       " 4,\n",
       " 4,\n",
       " 4,\n",
       " 4,\n",
       " 4,\n",
       " 4,\n",
       " 4,\n",
       " 4,\n",
       " 4,\n",
       " 4,\n",
       " 4,\n",
       " 4,\n",
       " 4,\n",
       " 4,\n",
       " 4,\n",
       " 4,\n",
       " 4,\n",
       " 4,\n",
       " 4,\n",
       " 4,\n",
       " 4,\n",
       " 4,\n",
       " 4,\n",
       " 4,\n",
       " 4,\n",
       " 4,\n",
       " 4,\n",
       " 4,\n",
       " 4,\n",
       " 4,\n",
       " 4,\n",
       " 4,\n",
       " 4,\n",
       " 4,\n",
       " 4,\n",
       " 4,\n",
       " 4,\n",
       " 4,\n",
       " 4,\n",
       " 4,\n",
       " 4,\n",
       " 4,\n",
       " 4,\n",
       " 4,\n",
       " 4,\n",
       " 4,\n",
       " 4,\n",
       " 4,\n",
       " 4,\n",
       " 4,\n",
       " 4,\n",
       " 4,\n",
       " 4,\n",
       " 4,\n",
       " 4,\n",
       " 4,\n",
       " 4,\n",
       " 4,\n",
       " 4,\n",
       " 4,\n",
       " 4,\n",
       " 4,\n",
       " 4,\n",
       " 4,\n",
       " 4,\n",
       " 4,\n",
       " 4,\n",
       " 4,\n",
       " 4,\n",
       " 4,\n",
       " 4,\n",
       " 4,\n",
       " 4,\n",
       " 4,\n",
       " 4,\n",
       " 4,\n",
       " 4,\n",
       " 4,\n",
       " 4,\n",
       " 4,\n",
       " 4,\n",
       " 4,\n",
       " 4,\n",
       " 4,\n",
       " 4,\n",
       " 4,\n",
       " 4,\n",
       " 4,\n",
       " 4,\n",
       " 4,\n",
       " 4,\n",
       " 4,\n",
       " 4,\n",
       " 4,\n",
       " 4,\n",
       " 4,\n",
       " 4,\n",
       " 4,\n",
       " 4,\n",
       " 4,\n",
       " 4,\n",
       " 4,\n",
       " 4,\n",
       " 4,\n",
       " 4,\n",
       " 4,\n",
       " 4,\n",
       " 4,\n",
       " 4,\n",
       " 4,\n",
       " 4,\n",
       " 4,\n",
       " 4,\n",
       " 4,\n",
       " 4,\n",
       " 4,\n",
       " 4,\n",
       " 4,\n",
       " 4,\n",
       " 4,\n",
       " 4,\n",
       " 4,\n",
       " 4,\n",
       " 4,\n",
       " 4,\n",
       " 4,\n",
       " 4,\n",
       " 4,\n",
       " 4,\n",
       " 4,\n",
       " 4,\n",
       " 4,\n",
       " 4,\n",
       " 4,\n",
       " 4,\n",
       " 4,\n",
       " 4,\n",
       " 4,\n",
       " 4,\n",
       " 4,\n",
       " 4,\n",
       " 4,\n",
       " 4,\n",
       " 4,\n",
       " 4,\n",
       " 4,\n",
       " 4,\n",
       " 4,\n",
       " 4,\n",
       " 4,\n",
       " 4,\n",
       " 4,\n",
       " 4,\n",
       " 4,\n",
       " 4,\n",
       " 4,\n",
       " 4,\n",
       " 4,\n",
       " 4,\n",
       " 4,\n",
       " 4,\n",
       " 4,\n",
       " 4,\n",
       " 4,\n",
       " 4,\n",
       " 4,\n",
       " 4,\n",
       " 4,\n",
       " 4,\n",
       " 4,\n",
       " 4,\n",
       " 4,\n",
       " 4,\n",
       " 4,\n",
       " 4,\n",
       " 4,\n",
       " 4,\n",
       " 4,\n",
       " 4,\n",
       " 4,\n",
       " 4,\n",
       " 4,\n",
       " 4,\n",
       " 4,\n",
       " 4,\n",
       " 4,\n",
       " 4,\n",
       " 4,\n",
       " 4,\n",
       " 4,\n",
       " 4,\n",
       " 4,\n",
       " 4,\n",
       " 4,\n",
       " 4,\n",
       " 4,\n",
       " 4,\n",
       " 4,\n",
       " 4,\n",
       " 4,\n",
       " 4,\n",
       " 4,\n",
       " 4,\n",
       " 4,\n",
       " 4,\n",
       " 4,\n",
       " 4,\n",
       " 4,\n",
       " 4,\n",
       " 4,\n",
       " 4,\n",
       " 4,\n",
       " 4,\n",
       " 4,\n",
       " 4,\n",
       " 4,\n",
       " 4,\n",
       " 4,\n",
       " 4,\n",
       " 4,\n",
       " 4,\n",
       " 4,\n",
       " 4,\n",
       " 4,\n",
       " 4,\n",
       " 4,\n",
       " 4,\n",
       " 4,\n",
       " 4,\n",
       " 4,\n",
       " 4,\n",
       " 4,\n",
       " 4,\n",
       " 4,\n",
       " 4,\n",
       " 4,\n",
       " 4,\n",
       " 4,\n",
       " 4,\n",
       " 4,\n",
       " 4,\n",
       " 4,\n",
       " 4,\n",
       " 4,\n",
       " 4,\n",
       " 4,\n",
       " 4,\n",
       " 4,\n",
       " 4,\n",
       " 4,\n",
       " 4,\n",
       " 4,\n",
       " 4,\n",
       " 4,\n",
       " 4,\n",
       " 4,\n",
       " 4,\n",
       " 4,\n",
       " 4,\n",
       " 4,\n",
       " 4,\n",
       " 4,\n",
       " 4,\n",
       " 4,\n",
       " 4,\n",
       " 4,\n",
       " 4,\n",
       " 4,\n",
       " 4,\n",
       " 4,\n",
       " 4,\n",
       " 4,\n",
       " 4,\n",
       " 4,\n",
       " 4,\n",
       " 4,\n",
       " 4,\n",
       " 4,\n",
       " 4,\n",
       " 4,\n",
       " 4,\n",
       " 4,\n",
       " 4,\n",
       " 4,\n",
       " 4,\n",
       " 4,\n",
       " 4,\n",
       " 4,\n",
       " 4,\n",
       " 4,\n",
       " 4,\n",
       " 4,\n",
       " 4,\n",
       " 4,\n",
       " 4,\n",
       " 4,\n",
       " 4,\n",
       " 4,\n",
       " 4,\n",
       " 4,\n",
       " 4,\n",
       " 4,\n",
       " 4,\n",
       " 4,\n",
       " 4,\n",
       " 4,\n",
       " 4,\n",
       " 4,\n",
       " 4,\n",
       " 4,\n",
       " 4,\n",
       " 4,\n",
       " 4,\n",
       " 4,\n",
       " 4,\n",
       " 4,\n",
       " 4,\n",
       " 4,\n",
       " 4,\n",
       " 4,\n",
       " 4,\n",
       " 4,\n",
       " 4,\n",
       " 4,\n",
       " 4,\n",
       " 4,\n",
       " 4,\n",
       " 4,\n",
       " 4,\n",
       " 4,\n",
       " 4,\n",
       " 4,\n",
       " 4,\n",
       " 4,\n",
       " 4,\n",
       " 4,\n",
       " 4,\n",
       " 4,\n",
       " 4,\n",
       " 4,\n",
       " 4,\n",
       " 4,\n",
       " 4,\n",
       " 4,\n",
       " 4,\n",
       " 4,\n",
       " 4,\n",
       " 4,\n",
       " 4,\n",
       " 4,\n",
       " 4,\n",
       " 4,\n",
       " 4,\n",
       " 4,\n",
       " 4,\n",
       " 4,\n",
       " 4,\n",
       " 4,\n",
       " 4,\n",
       " 4,\n",
       " 4,\n",
       " 4,\n",
       " 4,\n",
       " 4,\n",
       " 4,\n",
       " 4,\n",
       " 4,\n",
       " 4,\n",
       " 4,\n",
       " 4,\n",
       " 4,\n",
       " 4,\n",
       " 4,\n",
       " 4,\n",
       " 4,\n",
       " 4,\n",
       " 4,\n",
       " 4,\n",
       " 4,\n",
       " 4,\n",
       " 4,\n",
       " 4,\n",
       " 4,\n",
       " 4,\n",
       " 4,\n",
       " 4,\n",
       " 4,\n",
       " 4,\n",
       " 4,\n",
       " 4,\n",
       " 4,\n",
       " 4,\n",
       " 4,\n",
       " 4,\n",
       " 4,\n",
       " 4,\n",
       " 4,\n",
       " 4,\n",
       " 4,\n",
       " 4,\n",
       " 4,\n",
       " 4,\n",
       " ...]"
      ]
     },
     "execution_count": 385,
     "metadata": {},
     "output_type": "execute_result"
    }
   ],
   "source": [
    "y_pred = [y_mean for i in range(len(y_test))]\n",
    "y_pred"
   ]
  },
  {
   "cell_type": "code",
   "execution_count": 375,
   "metadata": {},
   "outputs": [
    {
     "data": {
      "text/html": [
       "<style>#sk-container-id-3 {color: black;background-color: white;}#sk-container-id-3 pre{padding: 0;}#sk-container-id-3 div.sk-toggleable {background-color: white;}#sk-container-id-3 label.sk-toggleable__label {cursor: pointer;display: block;width: 100%;margin-bottom: 0;padding: 0.3em;box-sizing: border-box;text-align: center;}#sk-container-id-3 label.sk-toggleable__label-arrow:before {content: \"▸\";float: left;margin-right: 0.25em;color: #696969;}#sk-container-id-3 label.sk-toggleable__label-arrow:hover:before {color: black;}#sk-container-id-3 div.sk-estimator:hover label.sk-toggleable__label-arrow:before {color: black;}#sk-container-id-3 div.sk-toggleable__content {max-height: 0;max-width: 0;overflow: hidden;text-align: left;background-color: #f0f8ff;}#sk-container-id-3 div.sk-toggleable__content pre {margin: 0.2em;color: black;border-radius: 0.25em;background-color: #f0f8ff;}#sk-container-id-3 input.sk-toggleable__control:checked~div.sk-toggleable__content {max-height: 200px;max-width: 100%;overflow: auto;}#sk-container-id-3 input.sk-toggleable__control:checked~label.sk-toggleable__label-arrow:before {content: \"▾\";}#sk-container-id-3 div.sk-estimator input.sk-toggleable__control:checked~label.sk-toggleable__label {background-color: #d4ebff;}#sk-container-id-3 div.sk-label input.sk-toggleable__control:checked~label.sk-toggleable__label {background-color: #d4ebff;}#sk-container-id-3 input.sk-hidden--visually {border: 0;clip: rect(1px 1px 1px 1px);clip: rect(1px, 1px, 1px, 1px);height: 1px;margin: -1px;overflow: hidden;padding: 0;position: absolute;width: 1px;}#sk-container-id-3 div.sk-estimator {font-family: monospace;background-color: #f0f8ff;border: 1px dotted black;border-radius: 0.25em;box-sizing: border-box;margin-bottom: 0.5em;}#sk-container-id-3 div.sk-estimator:hover {background-color: #d4ebff;}#sk-container-id-3 div.sk-parallel-item::after {content: \"\";width: 100%;border-bottom: 1px solid gray;flex-grow: 1;}#sk-container-id-3 div.sk-label:hover label.sk-toggleable__label {background-color: #d4ebff;}#sk-container-id-3 div.sk-serial::before {content: \"\";position: absolute;border-left: 1px solid gray;box-sizing: border-box;top: 0;bottom: 0;left: 50%;z-index: 0;}#sk-container-id-3 div.sk-serial {display: flex;flex-direction: column;align-items: center;background-color: white;padding-right: 0.2em;padding-left: 0.2em;position: relative;}#sk-container-id-3 div.sk-item {position: relative;z-index: 1;}#sk-container-id-3 div.sk-parallel {display: flex;align-items: stretch;justify-content: center;background-color: white;position: relative;}#sk-container-id-3 div.sk-item::before, #sk-container-id-3 div.sk-parallel-item::before {content: \"\";position: absolute;border-left: 1px solid gray;box-sizing: border-box;top: 0;bottom: 0;left: 50%;z-index: -1;}#sk-container-id-3 div.sk-parallel-item {display: flex;flex-direction: column;z-index: 1;position: relative;background-color: white;}#sk-container-id-3 div.sk-parallel-item:first-child::after {align-self: flex-end;width: 50%;}#sk-container-id-3 div.sk-parallel-item:last-child::after {align-self: flex-start;width: 50%;}#sk-container-id-3 div.sk-parallel-item:only-child::after {width: 0;}#sk-container-id-3 div.sk-dashed-wrapped {border: 1px dashed gray;margin: 0 0.4em 0.5em 0.4em;box-sizing: border-box;padding-bottom: 0.4em;background-color: white;}#sk-container-id-3 div.sk-label label {font-family: monospace;font-weight: bold;display: inline-block;line-height: 1.2em;}#sk-container-id-3 div.sk-label-container {text-align: center;}#sk-container-id-3 div.sk-container {/* jupyter's `normalize.less` sets `[hidden] { display: none; }` but bootstrap.min.css set `[hidden] { display: none !important; }` so we also need the `!important` here to be able to override the default hidden behavior on the sphinx rendered scikit-learn.org. See: https://github.com/scikit-learn/scikit-learn/issues/21755 */display: inline-block !important;position: relative;}#sk-container-id-3 div.sk-text-repr-fallback {display: none;}</style><div id=\"sk-container-id-3\" class=\"sk-top-container\"><div class=\"sk-text-repr-fallback\"><pre>RandomForestClassifier(criterion=&#x27;entropy&#x27;, max_depth=35, n_estimators=30,\n",
       "                       random_state=21)</pre><b>In a Jupyter environment, please rerun this cell to show the HTML representation or trust the notebook. <br />On GitHub, the HTML representation is unable to render, please try loading this page with nbviewer.org.</b></div><div class=\"sk-container\" hidden><div class=\"sk-item\"><div class=\"sk-estimator sk-toggleable\"><input class=\"sk-toggleable__control sk-hidden--visually\" id=\"sk-estimator-id-7\" type=\"checkbox\" checked><label for=\"sk-estimator-id-7\" class=\"sk-toggleable__label sk-toggleable__label-arrow\">RandomForestClassifier</label><div class=\"sk-toggleable__content\"><pre>RandomForestClassifier(criterion=&#x27;entropy&#x27;, max_depth=35, n_estimators=30,\n",
       "                       random_state=21)</pre></div></div></div></div></div>"
      ],
      "text/plain": [
       "RandomForestClassifier(criterion='entropy', max_depth=35, n_estimators=30,\n",
       "                       random_state=21)"
      ]
     },
     "execution_count": 375,
     "metadata": {},
     "output_type": "execute_result"
    }
   ],
   "source": [
    "best_model = RandomForestClassifier(class_weight = None, criterion = 'entropy', max_depth = 35, n_estimators = 30, random_state=21)\n",
    "best_model.fit(X_train, y_train)"
   ]
  },
  {
   "cell_type": "code",
   "execution_count": 386,
   "metadata": {},
   "outputs": [
    {
     "data": {
      "text/plain": [
       "0.9586138120169534"
      ]
     },
     "execution_count": 386,
     "metadata": {},
     "output_type": "execute_result"
    }
   ],
   "source": [
    "accuracy_score(y_pred, best_model.predict(X_test))"
   ]
  },
  {
   "cell_type": "markdown",
   "metadata": {},
   "source": [
    "Снова проведите бинаризацию целевого столбца, преобразовав теперь целые числа в классы bad (0, 1) (невкусное), so-so (2, 3) (нормальное), great (4, 5) (вкусное).\n",
    "Снова для прогнозирования классов попробуйте различные алгоритмы и их гиперпараметры. Выберите лучшее решение на основе кроссвалидации и посчитайте accuracy на тестовой подвыборке.\n",
    "Снова рассчитайте значение accuracy наивного классификатора, в котором вы для всех наблюдений прогнозируете наиболее распространенный класс. Сравните метрики.\n",
    "Что хуже: спрогнозировать плохой рейтинг, который на самом деле окажется хорошим, или спрогнозировать хороший рейтинг, который на самом деле окажется плохим?"
   ]
  },
  {
   "cell_type": "code",
   "execution_count": 389,
   "metadata": {},
   "outputs": [],
   "source": [
    "target = y.copy()\n",
    "target = target.replace(0, 'bad')\n",
    "target = target.replace(1, 'bad')\n",
    "target = target.replace(2, 'so-so')\n",
    "target = target.replace(3, 'so-so')\n",
    "target = target.replace(4, 'great')\n",
    "target = target.replace(5, 'great')"
   ]
  },
  {
   "cell_type": "code",
   "execution_count": 390,
   "metadata": {},
   "outputs": [],
   "source": [
    "X_train, X_test, y_train, y_test = train_test_split(X, target, test_size=0.2, random_state=21, stratify = target)"
   ]
  },
  {
   "cell_type": "markdown",
   "metadata": {},
   "source": [
    "# DicisionTree"
   ]
  },
  {
   "cell_type": "code",
   "execution_count": 391,
   "metadata": {},
   "outputs": [
    {
     "data": {
      "text/plain": [
       "0.7985785186457354"
      ]
     },
     "execution_count": 391,
     "metadata": {},
     "output_type": "execute_result"
    }
   ],
   "source": [
    "param_tree = {'max_depth': range(1, 20),\n",
    "             'class_weight' : ['balanced', None],\n",
    "             'criterion' : ['entropy', 'gini']}\n",
    "tree_grid = GridSearchCV(estimator = DecisionTreeClassifier(random_state=21), param_grid = param_tree)\n",
    "tree_grid.fit(X_train, y_train)\n",
    "tree_grid.best_score_"
   ]
  },
  {
   "cell_type": "code",
   "execution_count": 392,
   "metadata": {},
   "outputs": [
    {
     "data": {
      "text/plain": [
       "{'class_weight': None, 'criterion': 'entropy', 'max_depth': 1}"
      ]
     },
     "execution_count": 392,
     "metadata": {},
     "output_type": "execute_result"
    }
   ],
   "source": [
    "tree_grid.best_params_"
   ]
  },
  {
   "cell_type": "code",
   "execution_count": 393,
   "metadata": {},
   "outputs": [
    {
     "data": {
      "text/plain": [
       "0.7955614694606767"
      ]
     },
     "execution_count": 393,
     "metadata": {},
     "output_type": "execute_result"
    }
   ],
   "source": [
    "cross_val_score(tree_grid, X_test, y_test, cv = 10, n_jobs = -1).mean()"
   ]
  },
  {
   "cell_type": "markdown",
   "metadata": {},
   "source": [
    "# RandomForest"
   ]
  },
  {
   "cell_type": "code",
   "execution_count": 394,
   "metadata": {},
   "outputs": [
    {
     "data": {
      "text/plain": [
       "0.8005110509795937"
      ]
     },
     "execution_count": 394,
     "metadata": {},
     "output_type": "execute_result"
    }
   ],
   "source": [
    "param_rf = {'n_estimators': [5, 10, 30, 50],\n",
    "              'max_depth' : range(1, 50),\n",
    "             'class_weight' : ['balanced', None],\n",
    "             'criterion' : ['entropy', 'gini']}\n",
    "rf_grid = GridSearchCV(estimator = RandomForestClassifier(random_state=21), param_grid = param_rf)\n",
    "rf_grid.fit(X_train, y_train)\n",
    "rf_grid.best_score_"
   ]
  },
  {
   "cell_type": "code",
   "execution_count": 395,
   "metadata": {},
   "outputs": [
    {
     "data": {
      "text/plain": [
       "{'class_weight': None,\n",
       " 'criterion': 'gini',\n",
       " 'max_depth': 43,\n",
       " 'n_estimators': 30}"
      ]
     },
     "execution_count": 395,
     "metadata": {},
     "output_type": "execute_result"
    }
   ],
   "source": [
    "rf_grid.best_params_"
   ]
  },
  {
   "cell_type": "code",
   "execution_count": 396,
   "metadata": {},
   "outputs": [
    {
     "data": {
      "text/plain": [
       "0.7955620898003748"
      ]
     },
     "execution_count": 396,
     "metadata": {},
     "output_type": "execute_result"
    }
   ],
   "source": [
    "cross_val_score(rf_grid, X_test, y_test, cv = 10, n_jobs = -1).mean()"
   ]
  },
  {
   "cell_type": "markdown",
   "metadata": {},
   "source": [
    "# LogisticRegression"
   ]
  },
  {
   "cell_type": "code",
   "execution_count": 397,
   "metadata": {},
   "outputs": [
    {
     "data": {
      "text/plain": [
       "0.7987033234924531"
      ]
     },
     "execution_count": 397,
     "metadata": {},
     "output_type": "execute_result"
    }
   ],
   "source": [
    "param_lr = {'penalty': ['l2', None],\n",
    "              'solver' : ['newton-cg', 'lbfgs', 'sag', 'saga'],\n",
    "             'fit_intercept' : [True, False]}\n",
    "lr_grid = GridSearchCV(estimator = LogisticRegression(random_state=21), param_grid = param_lr)\n",
    "lr_grid.fit(X_train, y_train)\n",
    "lr_grid.best_score_"
   ]
  },
  {
   "cell_type": "code",
   "execution_count": 398,
   "metadata": {},
   "outputs": [
    {
     "data": {
      "text/plain": [
       "{'fit_intercept': True, 'penalty': 'l2', 'solver': 'lbfgs'}"
      ]
     },
     "execution_count": 398,
     "metadata": {},
     "output_type": "execute_result"
    }
   ],
   "source": [
    "lr_grid.best_params_"
   ]
  },
  {
   "cell_type": "code",
   "execution_count": 399,
   "metadata": {},
   "outputs": [
    {
     "data": {
      "text/plain": [
       "0.7930664631952457"
      ]
     },
     "execution_count": 399,
     "metadata": {},
     "output_type": "execute_result"
    }
   ],
   "source": [
    "cross_val_score(lr_grid, X_test, y_test, cv = 10, n_jobs = -1).mean()"
   ]
  },
  {
   "cell_type": "markdown",
   "metadata": {},
   "source": [
    "# Naive Regressor"
   ]
  },
  {
   "cell_type": "code",
   "execution_count": 401,
   "metadata": {},
   "outputs": [
    {
     "data": {
      "text/html": [
       "<style>#sk-container-id-4 {color: black;background-color: white;}#sk-container-id-4 pre{padding: 0;}#sk-container-id-4 div.sk-toggleable {background-color: white;}#sk-container-id-4 label.sk-toggleable__label {cursor: pointer;display: block;width: 100%;margin-bottom: 0;padding: 0.3em;box-sizing: border-box;text-align: center;}#sk-container-id-4 label.sk-toggleable__label-arrow:before {content: \"▸\";float: left;margin-right: 0.25em;color: #696969;}#sk-container-id-4 label.sk-toggleable__label-arrow:hover:before {color: black;}#sk-container-id-4 div.sk-estimator:hover label.sk-toggleable__label-arrow:before {color: black;}#sk-container-id-4 div.sk-toggleable__content {max-height: 0;max-width: 0;overflow: hidden;text-align: left;background-color: #f0f8ff;}#sk-container-id-4 div.sk-toggleable__content pre {margin: 0.2em;color: black;border-radius: 0.25em;background-color: #f0f8ff;}#sk-container-id-4 input.sk-toggleable__control:checked~div.sk-toggleable__content {max-height: 200px;max-width: 100%;overflow: auto;}#sk-container-id-4 input.sk-toggleable__control:checked~label.sk-toggleable__label-arrow:before {content: \"▾\";}#sk-container-id-4 div.sk-estimator input.sk-toggleable__control:checked~label.sk-toggleable__label {background-color: #d4ebff;}#sk-container-id-4 div.sk-label input.sk-toggleable__control:checked~label.sk-toggleable__label {background-color: #d4ebff;}#sk-container-id-4 input.sk-hidden--visually {border: 0;clip: rect(1px 1px 1px 1px);clip: rect(1px, 1px, 1px, 1px);height: 1px;margin: -1px;overflow: hidden;padding: 0;position: absolute;width: 1px;}#sk-container-id-4 div.sk-estimator {font-family: monospace;background-color: #f0f8ff;border: 1px dotted black;border-radius: 0.25em;box-sizing: border-box;margin-bottom: 0.5em;}#sk-container-id-4 div.sk-estimator:hover {background-color: #d4ebff;}#sk-container-id-4 div.sk-parallel-item::after {content: \"\";width: 100%;border-bottom: 1px solid gray;flex-grow: 1;}#sk-container-id-4 div.sk-label:hover label.sk-toggleable__label {background-color: #d4ebff;}#sk-container-id-4 div.sk-serial::before {content: \"\";position: absolute;border-left: 1px solid gray;box-sizing: border-box;top: 0;bottom: 0;left: 50%;z-index: 0;}#sk-container-id-4 div.sk-serial {display: flex;flex-direction: column;align-items: center;background-color: white;padding-right: 0.2em;padding-left: 0.2em;position: relative;}#sk-container-id-4 div.sk-item {position: relative;z-index: 1;}#sk-container-id-4 div.sk-parallel {display: flex;align-items: stretch;justify-content: center;background-color: white;position: relative;}#sk-container-id-4 div.sk-item::before, #sk-container-id-4 div.sk-parallel-item::before {content: \"\";position: absolute;border-left: 1px solid gray;box-sizing: border-box;top: 0;bottom: 0;left: 50%;z-index: -1;}#sk-container-id-4 div.sk-parallel-item {display: flex;flex-direction: column;z-index: 1;position: relative;background-color: white;}#sk-container-id-4 div.sk-parallel-item:first-child::after {align-self: flex-end;width: 50%;}#sk-container-id-4 div.sk-parallel-item:last-child::after {align-self: flex-start;width: 50%;}#sk-container-id-4 div.sk-parallel-item:only-child::after {width: 0;}#sk-container-id-4 div.sk-dashed-wrapped {border: 1px dashed gray;margin: 0 0.4em 0.5em 0.4em;box-sizing: border-box;padding-bottom: 0.4em;background-color: white;}#sk-container-id-4 div.sk-label label {font-family: monospace;font-weight: bold;display: inline-block;line-height: 1.2em;}#sk-container-id-4 div.sk-label-container {text-align: center;}#sk-container-id-4 div.sk-container {/* jupyter's `normalize.less` sets `[hidden] { display: none; }` but bootstrap.min.css set `[hidden] { display: none !important; }` so we also need the `!important` here to be able to override the default hidden behavior on the sphinx rendered scikit-learn.org. See: https://github.com/scikit-learn/scikit-learn/issues/21755 */display: inline-block !important;position: relative;}#sk-container-id-4 div.sk-text-repr-fallback {display: none;}</style><div id=\"sk-container-id-4\" class=\"sk-top-container\"><div class=\"sk-text-repr-fallback\"><pre>RandomForestClassifier(max_depth=43, n_estimators=30, random_state=21)</pre><b>In a Jupyter environment, please rerun this cell to show the HTML representation or trust the notebook. <br />On GitHub, the HTML representation is unable to render, please try loading this page with nbviewer.org.</b></div><div class=\"sk-container\" hidden><div class=\"sk-item\"><div class=\"sk-estimator sk-toggleable\"><input class=\"sk-toggleable__control sk-hidden--visually\" id=\"sk-estimator-id-8\" type=\"checkbox\" checked><label for=\"sk-estimator-id-8\" class=\"sk-toggleable__label sk-toggleable__label-arrow\">RandomForestClassifier</label><div class=\"sk-toggleable__content\"><pre>RandomForestClassifier(max_depth=43, n_estimators=30, random_state=21)</pre></div></div></div></div></div>"
      ],
      "text/plain": [
       "RandomForestClassifier(max_depth=43, n_estimators=30, random_state=21)"
      ]
     },
     "execution_count": 401,
     "metadata": {},
     "output_type": "execute_result"
    }
   ],
   "source": [
    "best_model = RandomForestClassifier(class_weight = None, criterion = 'gini', max_depth = 43, n_estimators = 30, random_state=21)\n",
    "best_model.fit(X_train, y_train)"
   ]
  },
  {
   "cell_type": "code",
   "execution_count": 403,
   "metadata": {},
   "outputs": [
    {
     "data": {
      "text/plain": [
       "['great',\n",
       " 'great',\n",
       " 'great',\n",
       " 'great',\n",
       " 'great',\n",
       " 'great',\n",
       " 'great',\n",
       " 'great',\n",
       " 'great',\n",
       " 'great',\n",
       " 'great',\n",
       " 'great',\n",
       " 'great',\n",
       " 'great',\n",
       " 'great',\n",
       " 'great',\n",
       " 'great',\n",
       " 'great',\n",
       " 'great',\n",
       " 'great',\n",
       " 'great',\n",
       " 'great',\n",
       " 'great',\n",
       " 'great',\n",
       " 'great',\n",
       " 'great',\n",
       " 'great',\n",
       " 'great',\n",
       " 'great',\n",
       " 'great',\n",
       " 'great',\n",
       " 'great',\n",
       " 'great',\n",
       " 'great',\n",
       " 'great',\n",
       " 'great',\n",
       " 'great',\n",
       " 'great',\n",
       " 'great',\n",
       " 'great',\n",
       " 'great',\n",
       " 'great',\n",
       " 'great',\n",
       " 'great',\n",
       " 'great',\n",
       " 'great',\n",
       " 'great',\n",
       " 'great',\n",
       " 'great',\n",
       " 'great',\n",
       " 'great',\n",
       " 'great',\n",
       " 'great',\n",
       " 'great',\n",
       " 'great',\n",
       " 'great',\n",
       " 'great',\n",
       " 'great',\n",
       " 'great',\n",
       " 'great',\n",
       " 'great',\n",
       " 'great',\n",
       " 'great',\n",
       " 'great',\n",
       " 'great',\n",
       " 'great',\n",
       " 'great',\n",
       " 'great',\n",
       " 'great',\n",
       " 'great',\n",
       " 'great',\n",
       " 'great',\n",
       " 'great',\n",
       " 'great',\n",
       " 'great',\n",
       " 'great',\n",
       " 'great',\n",
       " 'great',\n",
       " 'great',\n",
       " 'great',\n",
       " 'great',\n",
       " 'great',\n",
       " 'great',\n",
       " 'great',\n",
       " 'great',\n",
       " 'great',\n",
       " 'great',\n",
       " 'great',\n",
       " 'great',\n",
       " 'great',\n",
       " 'great',\n",
       " 'great',\n",
       " 'great',\n",
       " 'great',\n",
       " 'great',\n",
       " 'great',\n",
       " 'great',\n",
       " 'great',\n",
       " 'great',\n",
       " 'great',\n",
       " 'great',\n",
       " 'great',\n",
       " 'great',\n",
       " 'great',\n",
       " 'great',\n",
       " 'great',\n",
       " 'great',\n",
       " 'great',\n",
       " 'great',\n",
       " 'great',\n",
       " 'great',\n",
       " 'great',\n",
       " 'great',\n",
       " 'great',\n",
       " 'great',\n",
       " 'great',\n",
       " 'great',\n",
       " 'great',\n",
       " 'great',\n",
       " 'great',\n",
       " 'great',\n",
       " 'great',\n",
       " 'great',\n",
       " 'great',\n",
       " 'great',\n",
       " 'great',\n",
       " 'great',\n",
       " 'great',\n",
       " 'great',\n",
       " 'great',\n",
       " 'great',\n",
       " 'great',\n",
       " 'great',\n",
       " 'great',\n",
       " 'great',\n",
       " 'great',\n",
       " 'great',\n",
       " 'great',\n",
       " 'great',\n",
       " 'great',\n",
       " 'great',\n",
       " 'great',\n",
       " 'great',\n",
       " 'great',\n",
       " 'great',\n",
       " 'great',\n",
       " 'great',\n",
       " 'great',\n",
       " 'great',\n",
       " 'great',\n",
       " 'great',\n",
       " 'great',\n",
       " 'great',\n",
       " 'great',\n",
       " 'great',\n",
       " 'great',\n",
       " 'great',\n",
       " 'great',\n",
       " 'great',\n",
       " 'great',\n",
       " 'great',\n",
       " 'great',\n",
       " 'great',\n",
       " 'great',\n",
       " 'great',\n",
       " 'great',\n",
       " 'great',\n",
       " 'great',\n",
       " 'great',\n",
       " 'great',\n",
       " 'great',\n",
       " 'great',\n",
       " 'great',\n",
       " 'great',\n",
       " 'great',\n",
       " 'great',\n",
       " 'great',\n",
       " 'great',\n",
       " 'great',\n",
       " 'great',\n",
       " 'great',\n",
       " 'great',\n",
       " 'great',\n",
       " 'great',\n",
       " 'great',\n",
       " 'great',\n",
       " 'great',\n",
       " 'great',\n",
       " 'great',\n",
       " 'great',\n",
       " 'great',\n",
       " 'great',\n",
       " 'great',\n",
       " 'great',\n",
       " 'great',\n",
       " 'great',\n",
       " 'great',\n",
       " 'great',\n",
       " 'great',\n",
       " 'great',\n",
       " 'great',\n",
       " 'great',\n",
       " 'great',\n",
       " 'great',\n",
       " 'great',\n",
       " 'great',\n",
       " 'great',\n",
       " 'great',\n",
       " 'great',\n",
       " 'great',\n",
       " 'great',\n",
       " 'great',\n",
       " 'great',\n",
       " 'great',\n",
       " 'great',\n",
       " 'great',\n",
       " 'great',\n",
       " 'great',\n",
       " 'great',\n",
       " 'great',\n",
       " 'great',\n",
       " 'great',\n",
       " 'great',\n",
       " 'great',\n",
       " 'great',\n",
       " 'great',\n",
       " 'great',\n",
       " 'great',\n",
       " 'great',\n",
       " 'great',\n",
       " 'great',\n",
       " 'great',\n",
       " 'great',\n",
       " 'great',\n",
       " 'great',\n",
       " 'great',\n",
       " 'great',\n",
       " 'great',\n",
       " 'great',\n",
       " 'great',\n",
       " 'great',\n",
       " 'great',\n",
       " 'great',\n",
       " 'great',\n",
       " 'great',\n",
       " 'great',\n",
       " 'great',\n",
       " 'great',\n",
       " 'great',\n",
       " 'great',\n",
       " 'great',\n",
       " 'great',\n",
       " 'great',\n",
       " 'great',\n",
       " 'great',\n",
       " 'great',\n",
       " 'great',\n",
       " 'great',\n",
       " 'great',\n",
       " 'great',\n",
       " 'great',\n",
       " 'great',\n",
       " 'great',\n",
       " 'great',\n",
       " 'great',\n",
       " 'great',\n",
       " 'great',\n",
       " 'great',\n",
       " 'great',\n",
       " 'great',\n",
       " 'great',\n",
       " 'great',\n",
       " 'great',\n",
       " 'great',\n",
       " 'great',\n",
       " 'great',\n",
       " 'great',\n",
       " 'great',\n",
       " 'great',\n",
       " 'great',\n",
       " 'great',\n",
       " 'great',\n",
       " 'great',\n",
       " 'great',\n",
       " 'great',\n",
       " 'great',\n",
       " 'great',\n",
       " 'great',\n",
       " 'great',\n",
       " 'great',\n",
       " 'great',\n",
       " 'great',\n",
       " 'great',\n",
       " 'great',\n",
       " 'great',\n",
       " 'great',\n",
       " 'great',\n",
       " 'great',\n",
       " 'great',\n",
       " 'great',\n",
       " 'great',\n",
       " 'great',\n",
       " 'great',\n",
       " 'great',\n",
       " 'great',\n",
       " 'great',\n",
       " 'great',\n",
       " 'great',\n",
       " 'great',\n",
       " 'great',\n",
       " 'great',\n",
       " 'great',\n",
       " 'great',\n",
       " 'great',\n",
       " 'great',\n",
       " 'great',\n",
       " 'great',\n",
       " 'great',\n",
       " 'great',\n",
       " 'great',\n",
       " 'great',\n",
       " 'great',\n",
       " 'great',\n",
       " 'great',\n",
       " 'great',\n",
       " 'great',\n",
       " 'great',\n",
       " 'great',\n",
       " 'great',\n",
       " 'great',\n",
       " 'great',\n",
       " 'great',\n",
       " 'great',\n",
       " 'great',\n",
       " 'great',\n",
       " 'great',\n",
       " 'great',\n",
       " 'great',\n",
       " 'great',\n",
       " 'great',\n",
       " 'great',\n",
       " 'great',\n",
       " 'great',\n",
       " 'great',\n",
       " 'great',\n",
       " 'great',\n",
       " 'great',\n",
       " 'great',\n",
       " 'great',\n",
       " 'great',\n",
       " 'great',\n",
       " 'great',\n",
       " 'great',\n",
       " 'great',\n",
       " 'great',\n",
       " 'great',\n",
       " 'great',\n",
       " 'great',\n",
       " 'great',\n",
       " 'great',\n",
       " 'great',\n",
       " 'great',\n",
       " 'great',\n",
       " 'great',\n",
       " 'great',\n",
       " 'great',\n",
       " 'great',\n",
       " 'great',\n",
       " 'great',\n",
       " 'great',\n",
       " 'great',\n",
       " 'great',\n",
       " 'great',\n",
       " 'great',\n",
       " 'great',\n",
       " 'great',\n",
       " 'great',\n",
       " 'great',\n",
       " 'great',\n",
       " 'great',\n",
       " 'great',\n",
       " 'great',\n",
       " 'great',\n",
       " 'great',\n",
       " 'great',\n",
       " 'great',\n",
       " 'great',\n",
       " 'great',\n",
       " 'great',\n",
       " 'great',\n",
       " 'great',\n",
       " 'great',\n",
       " 'great',\n",
       " 'great',\n",
       " 'great',\n",
       " 'great',\n",
       " 'great',\n",
       " 'great',\n",
       " 'great',\n",
       " 'great',\n",
       " 'great',\n",
       " 'great',\n",
       " 'great',\n",
       " 'great',\n",
       " 'great',\n",
       " 'great',\n",
       " 'great',\n",
       " 'great',\n",
       " 'great',\n",
       " 'great',\n",
       " 'great',\n",
       " 'great',\n",
       " 'great',\n",
       " 'great',\n",
       " 'great',\n",
       " 'great',\n",
       " 'great',\n",
       " 'great',\n",
       " 'great',\n",
       " 'great',\n",
       " 'great',\n",
       " 'great',\n",
       " 'great',\n",
       " 'great',\n",
       " 'great',\n",
       " 'great',\n",
       " 'great',\n",
       " 'great',\n",
       " 'great',\n",
       " 'great',\n",
       " 'great',\n",
       " 'great',\n",
       " 'great',\n",
       " 'great',\n",
       " 'great',\n",
       " 'great',\n",
       " 'great',\n",
       " 'great',\n",
       " 'great',\n",
       " 'great',\n",
       " 'great',\n",
       " 'great',\n",
       " 'great',\n",
       " 'great',\n",
       " 'great',\n",
       " 'great',\n",
       " 'great',\n",
       " 'great',\n",
       " 'great',\n",
       " 'great',\n",
       " 'great',\n",
       " 'great',\n",
       " 'great',\n",
       " 'great',\n",
       " 'great',\n",
       " 'great',\n",
       " 'great',\n",
       " 'great',\n",
       " 'great',\n",
       " 'great',\n",
       " 'great',\n",
       " 'great',\n",
       " 'great',\n",
       " 'great',\n",
       " 'great',\n",
       " 'great',\n",
       " 'great',\n",
       " 'great',\n",
       " 'great',\n",
       " 'great',\n",
       " 'great',\n",
       " 'great',\n",
       " 'great',\n",
       " 'great',\n",
       " 'great',\n",
       " 'great',\n",
       " 'great',\n",
       " 'great',\n",
       " 'great',\n",
       " 'great',\n",
       " 'great',\n",
       " 'great',\n",
       " 'great',\n",
       " 'great',\n",
       " 'great',\n",
       " 'great',\n",
       " 'great',\n",
       " 'great',\n",
       " 'great',\n",
       " 'great',\n",
       " 'great',\n",
       " 'great',\n",
       " 'great',\n",
       " 'great',\n",
       " 'great',\n",
       " 'great',\n",
       " 'great',\n",
       " 'great',\n",
       " 'great',\n",
       " 'great',\n",
       " 'great',\n",
       " 'great',\n",
       " 'great',\n",
       " 'great',\n",
       " 'great',\n",
       " 'great',\n",
       " 'great',\n",
       " 'great',\n",
       " 'great',\n",
       " 'great',\n",
       " 'great',\n",
       " 'great',\n",
       " 'great',\n",
       " 'great',\n",
       " 'great',\n",
       " 'great',\n",
       " 'great',\n",
       " 'great',\n",
       " 'great',\n",
       " 'great',\n",
       " 'great',\n",
       " 'great',\n",
       " 'great',\n",
       " 'great',\n",
       " 'great',\n",
       " 'great',\n",
       " 'great',\n",
       " 'great',\n",
       " 'great',\n",
       " 'great',\n",
       " 'great',\n",
       " 'great',\n",
       " 'great',\n",
       " 'great',\n",
       " 'great',\n",
       " 'great',\n",
       " 'great',\n",
       " 'great',\n",
       " 'great',\n",
       " 'great',\n",
       " 'great',\n",
       " 'great',\n",
       " 'great',\n",
       " 'great',\n",
       " 'great',\n",
       " 'great',\n",
       " 'great',\n",
       " 'great',\n",
       " 'great',\n",
       " 'great',\n",
       " 'great',\n",
       " 'great',\n",
       " 'great',\n",
       " 'great',\n",
       " 'great',\n",
       " 'great',\n",
       " 'great',\n",
       " 'great',\n",
       " 'great',\n",
       " 'great',\n",
       " 'great',\n",
       " 'great',\n",
       " 'great',\n",
       " 'great',\n",
       " 'great',\n",
       " 'great',\n",
       " 'great',\n",
       " 'great',\n",
       " 'great',\n",
       " 'great',\n",
       " 'great',\n",
       " 'great',\n",
       " 'great',\n",
       " 'great',\n",
       " 'great',\n",
       " 'great',\n",
       " 'great',\n",
       " 'great',\n",
       " 'great',\n",
       " 'great',\n",
       " 'great',\n",
       " 'great',\n",
       " 'great',\n",
       " 'great',\n",
       " 'great',\n",
       " 'great',\n",
       " 'great',\n",
       " 'great',\n",
       " 'great',\n",
       " 'great',\n",
       " 'great',\n",
       " 'great',\n",
       " 'great',\n",
       " 'great',\n",
       " 'great',\n",
       " 'great',\n",
       " 'great',\n",
       " 'great',\n",
       " 'great',\n",
       " 'great',\n",
       " 'great',\n",
       " 'great',\n",
       " 'great',\n",
       " 'great',\n",
       " 'great',\n",
       " 'great',\n",
       " 'great',\n",
       " 'great',\n",
       " 'great',\n",
       " 'great',\n",
       " 'great',\n",
       " 'great',\n",
       " 'great',\n",
       " 'great',\n",
       " 'great',\n",
       " 'great',\n",
       " 'great',\n",
       " 'great',\n",
       " 'great',\n",
       " 'great',\n",
       " 'great',\n",
       " 'great',\n",
       " 'great',\n",
       " 'great',\n",
       " 'great',\n",
       " 'great',\n",
       " 'great',\n",
       " 'great',\n",
       " 'great',\n",
       " 'great',\n",
       " 'great',\n",
       " 'great',\n",
       " 'great',\n",
       " 'great',\n",
       " 'great',\n",
       " 'great',\n",
       " 'great',\n",
       " 'great',\n",
       " 'great',\n",
       " 'great',\n",
       " 'great',\n",
       " 'great',\n",
       " 'great',\n",
       " 'great',\n",
       " 'great',\n",
       " 'great',\n",
       " 'great',\n",
       " 'great',\n",
       " 'great',\n",
       " 'great',\n",
       " 'great',\n",
       " 'great',\n",
       " 'great',\n",
       " 'great',\n",
       " 'great',\n",
       " 'great',\n",
       " 'great',\n",
       " 'great',\n",
       " 'great',\n",
       " 'great',\n",
       " 'great',\n",
       " 'great',\n",
       " 'great',\n",
       " 'great',\n",
       " 'great',\n",
       " 'great',\n",
       " 'great',\n",
       " 'great',\n",
       " 'great',\n",
       " 'great',\n",
       " 'great',\n",
       " 'great',\n",
       " 'great',\n",
       " 'great',\n",
       " 'great',\n",
       " 'great',\n",
       " 'great',\n",
       " 'great',\n",
       " 'great',\n",
       " 'great',\n",
       " 'great',\n",
       " 'great',\n",
       " 'great',\n",
       " 'great',\n",
       " 'great',\n",
       " 'great',\n",
       " 'great',\n",
       " 'great',\n",
       " 'great',\n",
       " 'great',\n",
       " 'great',\n",
       " 'great',\n",
       " 'great',\n",
       " 'great',\n",
       " 'great',\n",
       " 'great',\n",
       " 'great',\n",
       " 'great',\n",
       " 'great',\n",
       " 'great',\n",
       " 'great',\n",
       " 'great',\n",
       " 'great',\n",
       " 'great',\n",
       " 'great',\n",
       " 'great',\n",
       " 'great',\n",
       " 'great',\n",
       " 'great',\n",
       " 'great',\n",
       " 'great',\n",
       " 'great',\n",
       " 'great',\n",
       " 'great',\n",
       " 'great',\n",
       " 'great',\n",
       " 'great',\n",
       " 'great',\n",
       " 'great',\n",
       " 'great',\n",
       " 'great',\n",
       " 'great',\n",
       " 'great',\n",
       " 'great',\n",
       " 'great',\n",
       " 'great',\n",
       " 'great',\n",
       " 'great',\n",
       " 'great',\n",
       " 'great',\n",
       " 'great',\n",
       " 'great',\n",
       " 'great',\n",
       " 'great',\n",
       " 'great',\n",
       " 'great',\n",
       " 'great',\n",
       " 'great',\n",
       " 'great',\n",
       " 'great',\n",
       " 'great',\n",
       " 'great',\n",
       " 'great',\n",
       " 'great',\n",
       " 'great',\n",
       " 'great',\n",
       " 'great',\n",
       " 'great',\n",
       " 'great',\n",
       " 'great',\n",
       " 'great',\n",
       " 'great',\n",
       " 'great',\n",
       " 'great',\n",
       " 'great',\n",
       " 'great',\n",
       " 'great',\n",
       " 'great',\n",
       " 'great',\n",
       " 'great',\n",
       " 'great',\n",
       " 'great',\n",
       " 'great',\n",
       " 'great',\n",
       " 'great',\n",
       " 'great',\n",
       " 'great',\n",
       " 'great',\n",
       " 'great',\n",
       " 'great',\n",
       " 'great',\n",
       " 'great',\n",
       " 'great',\n",
       " 'great',\n",
       " 'great',\n",
       " 'great',\n",
       " 'great',\n",
       " 'great',\n",
       " 'great',\n",
       " 'great',\n",
       " 'great',\n",
       " 'great',\n",
       " 'great',\n",
       " 'great',\n",
       " 'great',\n",
       " 'great',\n",
       " 'great',\n",
       " 'great',\n",
       " 'great',\n",
       " 'great',\n",
       " 'great',\n",
       " 'great',\n",
       " 'great',\n",
       " 'great',\n",
       " 'great',\n",
       " 'great',\n",
       " 'great',\n",
       " 'great',\n",
       " 'great',\n",
       " 'great',\n",
       " 'great',\n",
       " 'great',\n",
       " 'great',\n",
       " 'great',\n",
       " 'great',\n",
       " 'great',\n",
       " 'great',\n",
       " 'great',\n",
       " 'great',\n",
       " 'great',\n",
       " 'great',\n",
       " 'great',\n",
       " 'great',\n",
       " 'great',\n",
       " 'great',\n",
       " 'great',\n",
       " 'great',\n",
       " 'great',\n",
       " 'great',\n",
       " 'great',\n",
       " 'great',\n",
       " 'great',\n",
       " 'great',\n",
       " 'great',\n",
       " 'great',\n",
       " 'great',\n",
       " 'great',\n",
       " 'great',\n",
       " 'great',\n",
       " 'great',\n",
       " 'great',\n",
       " 'great',\n",
       " 'great',\n",
       " 'great',\n",
       " 'great',\n",
       " 'great',\n",
       " 'great',\n",
       " 'great',\n",
       " 'great',\n",
       " 'great',\n",
       " 'great',\n",
       " 'great',\n",
       " 'great',\n",
       " 'great',\n",
       " 'great',\n",
       " 'great',\n",
       " 'great',\n",
       " 'great',\n",
       " 'great',\n",
       " 'great',\n",
       " 'great',\n",
       " 'great',\n",
       " 'great',\n",
       " 'great',\n",
       " 'great',\n",
       " 'great',\n",
       " 'great',\n",
       " 'great',\n",
       " 'great',\n",
       " 'great',\n",
       " 'great',\n",
       " 'great',\n",
       " 'great',\n",
       " 'great',\n",
       " 'great',\n",
       " 'great',\n",
       " 'great',\n",
       " 'great',\n",
       " 'great',\n",
       " 'great',\n",
       " 'great',\n",
       " 'great',\n",
       " 'great',\n",
       " 'great',\n",
       " 'great',\n",
       " 'great',\n",
       " 'great',\n",
       " 'great',\n",
       " 'great',\n",
       " 'great',\n",
       " 'great',\n",
       " 'great',\n",
       " 'great',\n",
       " 'great',\n",
       " 'great',\n",
       " 'great',\n",
       " 'great',\n",
       " 'great',\n",
       " 'great',\n",
       " 'great',\n",
       " 'great',\n",
       " 'great',\n",
       " 'great',\n",
       " 'great',\n",
       " 'great',\n",
       " 'great',\n",
       " 'great',\n",
       " 'great',\n",
       " 'great',\n",
       " 'great',\n",
       " 'great',\n",
       " 'great',\n",
       " 'great',\n",
       " 'great',\n",
       " 'great',\n",
       " 'great',\n",
       " 'great',\n",
       " 'great',\n",
       " 'great',\n",
       " 'great',\n",
       " 'great',\n",
       " 'great',\n",
       " 'great',\n",
       " 'great',\n",
       " 'great',\n",
       " 'great',\n",
       " 'great',\n",
       " 'great',\n",
       " 'great',\n",
       " 'great',\n",
       " 'great',\n",
       " 'great',\n",
       " 'great',\n",
       " 'great',\n",
       " 'great',\n",
       " 'great',\n",
       " 'great',\n",
       " 'great',\n",
       " 'great',\n",
       " 'great',\n",
       " 'great',\n",
       " 'great',\n",
       " 'great',\n",
       " 'great',\n",
       " 'great',\n",
       " 'great',\n",
       " 'great',\n",
       " 'great',\n",
       " 'great',\n",
       " 'great',\n",
       " 'great',\n",
       " 'great',\n",
       " 'great',\n",
       " 'great',\n",
       " 'great',\n",
       " 'great',\n",
       " 'great',\n",
       " 'great',\n",
       " 'great',\n",
       " 'great',\n",
       " 'great',\n",
       " 'great',\n",
       " 'great',\n",
       " 'great',\n",
       " 'great',\n",
       " 'great',\n",
       " 'great',\n",
       " 'great',\n",
       " 'great',\n",
       " 'great',\n",
       " 'great',\n",
       " 'great',\n",
       " 'great',\n",
       " 'great',\n",
       " 'great',\n",
       " 'great',\n",
       " 'great',\n",
       " 'great',\n",
       " 'great',\n",
       " 'great',\n",
       " 'great',\n",
       " 'great',\n",
       " 'great',\n",
       " 'great',\n",
       " 'great',\n",
       " 'great',\n",
       " 'great',\n",
       " 'great',\n",
       " 'great',\n",
       " 'great',\n",
       " 'great',\n",
       " 'great',\n",
       " 'great',\n",
       " 'great',\n",
       " 'great',\n",
       " 'great',\n",
       " 'great',\n",
       " 'great',\n",
       " 'great',\n",
       " 'great',\n",
       " 'great',\n",
       " 'great',\n",
       " 'great',\n",
       " 'great',\n",
       " 'great',\n",
       " 'great',\n",
       " 'great',\n",
       " 'great',\n",
       " 'great',\n",
       " 'great',\n",
       " ...]"
      ]
     },
     "execution_count": 403,
     "metadata": {},
     "output_type": "execute_result"
    }
   ],
   "source": [
    "y_mean = 'great'\n",
    "y_pred = [y_mean for i in range(len(y_test))]\n",
    "y_pred"
   ]
  },
  {
   "cell_type": "code",
   "execution_count": 404,
   "metadata": {
    "scrolled": true
   },
   "outputs": [
    {
     "data": {
      "text/plain": [
       "0.9693343305908751"
      ]
     },
     "execution_count": 404,
     "metadata": {},
     "output_type": "execute_result"
    }
   ],
   "source": [
    "accuracy_score(y_pred, best_model.predict(X_test))"
   ]
  },
  {
   "cell_type": "markdown",
   "metadata": {},
   "source": [
    "Замените метрику accuracy другой соответствующей метрикой.\n",
    "Для прогнозирования классов с новой метрикой опробуйте различные алгоритмы и их гиперпараметры. Выберите лучшее решение и посчитайте метрику на тестовой подвыборке."
   ]
  },
  {
   "cell_type": "code",
   "execution_count": 409,
   "metadata": {},
   "outputs": [],
   "source": [
    "y_pred = best_model.predict(X_train)\n",
    "y_pred_proba = best_model.predict_proba(X_train)"
   ]
  },
  {
   "cell_type": "code",
   "execution_count": 412,
   "metadata": {},
   "outputs": [
    {
     "name": "stdout",
     "output_type": "stream",
     "text": [
      "accuracy is 0.84222\n",
      "precision is 0.86303\n",
      "recall is 0.84222\n"
     ]
    }
   ],
   "source": [
    "print(f'accuracy is {accuracy_score(y_train, y_pred):.5f}\\nprecision is {precision_score(y_train, y_pred, average = \"weighted\"):.5f}\\nrecall is {recall_score(y_train, y_pred,average = \"weighted\"):.5f}')"
   ]
  },
  {
   "cell_type": "markdown",
   "metadata": {},
   "source": [
    "Best metrics - precision"
   ]
  },
  {
   "cell_type": "markdown",
   "metadata": {},
   "source": [
    "# LogisticRegression"
   ]
  },
  {
   "cell_type": "code",
   "execution_count": 418,
   "metadata": {},
   "outputs": [
    {
     "data": {
      "text/plain": [
       "{'fit_intercept': True, 'penalty': 'l2', 'solver': 'newton-cg'}"
      ]
     },
     "execution_count": 418,
     "metadata": {},
     "output_type": "execute_result"
    }
   ],
   "source": [
    "param_lr = {'penalty': ['l2', None],\n",
    "              'solver' : ['newton-cg', 'lbfgs', 'sag', 'saga'],\n",
    "             'fit_intercept' : [True, False]}\n",
    "lr_grid = GridSearchCV(estimator = LogisticRegression(random_state=21), param_grid = param_lr, scoring = 'precision')\n",
    "lr_grid.fit(X_train, y_train)\n",
    "lr_grid.best_params_"
   ]
  },
  {
   "cell_type": "code",
   "execution_count": 421,
   "metadata": {},
   "outputs": [],
   "source": [
    "lr_best = LogisticRegression(penalty = 'l2', solver = 'newton-cg', fit_intercept = True, random_state = 21).fit(X_train, y_train)"
   ]
  },
  {
   "cell_type": "code",
   "execution_count": 422,
   "metadata": {},
   "outputs": [
    {
     "data": {
      "text/plain": [
       "0.7468670053559037"
      ]
     },
     "execution_count": 422,
     "metadata": {},
     "output_type": "execute_result"
    }
   ],
   "source": [
    "precision_score(y_test, lr_best.predict(X_test), average = 'weighted')"
   ]
  },
  {
   "cell_type": "markdown",
   "metadata": {},
   "source": [
    "# DicisionTree"
   ]
  },
  {
   "cell_type": "code",
   "execution_count": 423,
   "metadata": {},
   "outputs": [
    {
     "data": {
      "text/plain": [
       "{'class_weight': 'balanced', 'criterion': 'entropy', 'max_depth': 1}"
      ]
     },
     "execution_count": 423,
     "metadata": {},
     "output_type": "execute_result"
    }
   ],
   "source": [
    "param_tree = {'max_depth': range(1, 20),\n",
    "             'class_weight' : ['balanced', None],\n",
    "             'criterion' : ['entropy', 'gini']}\n",
    "tree_grid = GridSearchCV(estimator = DecisionTreeClassifier(random_state=21), param_grid = param_tree, scoring = 'precision')\n",
    "tree_grid.fit(X_train, y_train)\n",
    "tree_grid.best_params_"
   ]
  },
  {
   "cell_type": "code",
   "execution_count": 425,
   "metadata": {},
   "outputs": [],
   "source": [
    "dt_best = DecisionTreeClassifier(max_depth = 1, class_weight = 'balanced', criterion = 'entropy', random_state = 21).fit(X_train, y_train)"
   ]
  },
  {
   "cell_type": "code",
   "execution_count": 426,
   "metadata": {},
   "outputs": [
    {
     "data": {
      "text/plain": [
       "0.07471759903614572"
      ]
     },
     "execution_count": 426,
     "metadata": {},
     "output_type": "execute_result"
    }
   ],
   "source": [
    "precision_score(y_test, dt_best.predict(X_test), average = 'weighted')"
   ]
  },
  {
   "cell_type": "markdown",
   "metadata": {},
   "source": [
    "# RandomForest"
   ]
  },
  {
   "cell_type": "code",
   "execution_count": 427,
   "metadata": {},
   "outputs": [
    {
     "data": {
      "text/plain": [
       "{'class_weight': None,\n",
       " 'criterion': 'gini',\n",
       " 'max_depth': 43,\n",
       " 'n_estimators': 30}"
      ]
     },
     "execution_count": 427,
     "metadata": {},
     "output_type": "execute_result"
    }
   ],
   "source": [
    "param_rf = {'n_estimators': [5, 10, 30, 50],\n",
    "              'max_depth' : range(1, 50),\n",
    "             'class_weight' : ['balanced', None],\n",
    "             'criterion' : ['entropy', 'gini']}\n",
    "rf_grid = GridSearchCV(estimator = RandomForestClassifier(random_state=21), param_grid = param_rf)\n",
    "rf_grid.fit(X_train, y_train)\n",
    "rf_grid.best_params_"
   ]
  },
  {
   "cell_type": "code",
   "execution_count": 430,
   "metadata": {},
   "outputs": [],
   "source": [
    "rf_best = RandomForestClassifier(max_depth = 43, class_weight = None, criterion = 'gini', n_estimators = 30, random_state = 21).fit(X_train, y_train)"
   ]
  },
  {
   "cell_type": "code",
   "execution_count": 431,
   "metadata": {},
   "outputs": [
    {
     "data": {
      "text/plain": [
       "0.759732740242558"
      ]
     },
     "execution_count": 431,
     "metadata": {},
     "output_type": "execute_result"
    }
   ],
   "source": [
    "precision_score(y_test, rf_best.predict(X_test), average = 'weighted')"
   ]
  },
  {
   "cell_type": "markdown",
   "metadata": {},
   "source": [
    "Попробуйте различные ансамбли и их гиперпараметры. Выберите лучшее решение и посчитайте метрику на тестовой подвыборке."
   ]
  },
  {
   "cell_type": "markdown",
   "metadata": {},
   "source": [
    "# Voting"
   ]
  },
  {
   "cell_type": "code",
   "execution_count": 469,
   "metadata": {},
   "outputs": [
    {
     "data": {
      "text/plain": [
       "{'weights': (1, 2, 3)}"
      ]
     },
     "execution_count": 469,
     "metadata": {},
     "output_type": "execute_result"
    }
   ],
   "source": [
    "vc_params = {'weights' : [(1, 2, 3), (3, 2, 1), (1, 3, 2)]}\n",
    "vc = GridSearchCV(VotingClassifier(estimators = [('DicisionTreeClassifier', dt_best), ('RandomForestClassifier', rf_best), ('LogisticRegression', lr_best)]), \n",
    "                  param_grid = vc_params, scoring = 'precision')\n",
    "vc.fit(X_train, y_train)\n",
    "vc.best_params_"
   ]
  },
  {
   "cell_type": "code",
   "execution_count": 455,
   "metadata": {},
   "outputs": [
    {
     "data": {
      "text/plain": [
       "0.7468670053559037"
      ]
     },
     "execution_count": 455,
     "metadata": {},
     "output_type": "execute_result"
    }
   ],
   "source": [
    "vc_best = VotingClassifier(estimators = [('DicisionTreeClassifier', dt_best), ('RandomForestClassifier', rf_best), ('LogisticRegression', lr_best)], weights = [1, 2, 5]).fit(X_train, y_train)\n",
    "precision_score(y_test, vc_best.predict(X_test), average = 'weighted')"
   ]
  },
  {
   "cell_type": "markdown",
   "metadata": {},
   "source": [
    "# Bagging"
   ]
  },
  {
   "cell_type": "code",
   "execution_count": 438,
   "metadata": {},
   "outputs": [
    {
     "data": {
      "text/plain": [
       "{'n_estimators': 10}"
      ]
     },
     "execution_count": 438,
     "metadata": {},
     "output_type": "execute_result"
    }
   ],
   "source": [
    "bag_params = {'n_estimators' : [10, 20, 30]}\n",
    "bag = GridSearchCV(BaggingClassifier(base_estimator = dt_best), \n",
    "                  param_grid = bag_params, scoring = 'precision')\n",
    "bag.fit(X_train, y_train)\n",
    "bag.best_params_"
   ]
  },
  {
   "cell_type": "code",
   "execution_count": 456,
   "metadata": {},
   "outputs": [
    {
     "name": "stdout",
     "output_type": "stream",
     "text": [
      "Precision for DecisionTree 0.07471759903614572\n"
     ]
    }
   ],
   "source": [
    "bag_best_dt = BaggingClassifier(base_estimator = dt_best, n_estimators = 10)\n",
    "bag_best_dt.fit(X_train, y_train)\n",
    "print('Precision for DecisionTree', precision_score(y_test, bag_best_dt.predict(X_test), average = 'weighted'))"
   ]
  },
  {
   "cell_type": "code",
   "execution_count": 439,
   "metadata": {},
   "outputs": [
    {
     "data": {
      "text/plain": [
       "{'n_estimators': 10}"
      ]
     },
     "execution_count": 439,
     "metadata": {},
     "output_type": "execute_result"
    }
   ],
   "source": [
    "bag_params = {'n_estimators' : [10, 20, 30]}\n",
    "bag = GridSearchCV(BaggingClassifier(base_estimator = rf_best), \n",
    "                  param_grid = bag_params, scoring = 'precision')\n",
    "bag.fit(X_train, y_train)\n",
    "bag.best_params_"
   ]
  },
  {
   "cell_type": "code",
   "execution_count": 457,
   "metadata": {},
   "outputs": [
    {
     "name": "stdout",
     "output_type": "stream",
     "text": [
      "Precision for RandomForest 0.7716713088580496\n"
     ]
    }
   ],
   "source": [
    "bag_best_rf = BaggingClassifier(base_estimator = rf_best, n_estimators = 10).fit(X_train, y_train)\n",
    "print('Precision for RandomForest', precision_score(y_test, bag_best_rf.predict(X_test), average = 'weighted'))"
   ]
  },
  {
   "cell_type": "code",
   "execution_count": null,
   "metadata": {},
   "outputs": [],
   "source": []
  },
  {
   "cell_type": "markdown",
   "metadata": {},
   "source": [
    "# Stacking"
   ]
  },
  {
   "cell_type": "code",
   "execution_count": 446,
   "metadata": {},
   "outputs": [
    {
     "data": {
      "text/plain": [
       "{'passthrough': True}"
      ]
     },
     "execution_count": 446,
     "metadata": {},
     "output_type": "execute_result"
    }
   ],
   "source": [
    "st_params = {'passthrough' : [True, False]}\n",
    "st = GridSearchCV(StackingClassifier(estimators = [('DicisionTreeClassifier', dt_best), ('RandomForestClassifier', rf_best), ('LogisticRegression', lr_best)]), \n",
    "                  param_grid = st_params, scoring = 'precision')\n",
    "st.fit(X_train, y_train)\n",
    "st.best_params_"
   ]
  },
  {
   "cell_type": "code",
   "execution_count": 460,
   "metadata": {},
   "outputs": [
    {
     "name": "stdout",
     "output_type": "stream",
     "text": [
      "Precision for RandomForest 0.8033541748003632\n"
     ]
    }
   ],
   "source": [
    "st_best = StackingClassifier(estimators = [('DicisionTreeClassifier', dt_best), ('RandomForestClassifier', rf_best), ('LogisticRegression', lr_best)], passthrough = True).fit(X_train, y_train)\n",
    "print('Precision for Stacking', precision_score(y_test, st_best.predict(X_test), average = 'weighted'))"
   ]
  },
  {
   "cell_type": "code",
   "execution_count": 470,
   "metadata": {},
   "outputs": [],
   "source": [
    "final_model = st_best = StackingClassifier(estimators = [('DicisionTreeClassifier', dt_best), ('RandomForestClassifier', rf_best), ('LogisticRegression', lr_best)], passthrough = True).fit(X_train, y_train)"
   ]
  },
  {
   "cell_type": "code",
   "execution_count": 475,
   "metadata": {},
   "outputs": [
    {
     "data": {
      "text/plain": [
       "['C:\\\\Google Drive\\\\School21\\\\Day15\\\\best_model.joblib']"
      ]
     },
     "execution_count": 475,
     "metadata": {},
     "output_type": "execute_result"
    }
   ],
   "source": [
    "dump(final_model, 'C:\\\\Google Drive\\\\School21\\\\Day15\\\\best_model.joblib')"
   ]
  }
 ],
 "metadata": {
  "colab": {
   "collapsed_sections": [],
   "provenance": []
  },
  "kernelspec": {
   "display_name": "Python 3 (ipykernel)",
   "language": "python",
   "name": "python3"
  },
  "language_info": {
   "codemirror_mode": {
    "name": "ipython",
    "version": 3
   },
   "file_extension": ".py",
   "mimetype": "text/x-python",
   "name": "python",
   "nbconvert_exporter": "python",
   "pygments_lexer": "ipython3",
   "version": "3.9.12"
  }
 },
 "nbformat": 4,
 "nbformat_minor": 1
}
